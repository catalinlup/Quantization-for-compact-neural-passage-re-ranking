{
 "cells": [
  {
   "cell_type": "code",
   "execution_count": 1,
   "id": "f6661b0e-ef8a-4dfd-84e3-1aa4ece706fa",
   "metadata": {},
   "outputs": [],
   "source": [
    "import torch\n",
    "import numpy as np\n",
    "import os\n",
    "import pickle\n",
    "import h5py\n",
    "import pandas as pd\n",
    "import datetime\n",
    "import time\n",
    "from collections import defaultdict\n",
    "from tqdm import trange, tqdm\n"
   ]
  },
  {
   "cell_type": "code",
   "execution_count": 2,
   "id": "7cf7570f-6bd5-40f9-ab27-f7be2bef4ac4",
   "metadata": {},
   "outputs": [],
   "source": [
    "QRELS_PATH = '/home/catalinlup/MyWorkspace/MasterThesis/datasets/qrels/msmarco_psg.qrels.train.tsv'\n",
    "qrels = pd.read_csv(QRELS_PATH, sep='\\t', header=None).to_numpy()\n",
    "qrels\n",
    "relevant_docs_by_qid = defaultdict(list)\n",
    "for row in qrels:\n",
    "    qid = row[0]\n",
    "    docid = row[2]\n",
    "    relevant_docs_by_qid[qid].append(docid)\n",
    "pickle.dump(dict(relevant_docs_by_qid), open('./negative_sample_batches/relevant_docs_by_qid.pickle', 'wb'))"
   ]
  },
  {
   "cell_type": "code",
   "execution_count": 2,
   "id": "0ad93ccc-08e6-4aa8-83fa-c9fc2149f6b8",
   "metadata": {},
   "outputs": [
    {
     "name": "stderr",
     "output_type": "stream",
     "text": [
      "100%|████████████████████████████████████████| 809/809 [00:03<00:00, 232.63it/s]\n"
     ]
    }
   ],
   "source": [
    "BATCHES = []\n",
    "for bi in trange(0, 809):\n",
    "\n",
    "    BATCHES.append(pickle.load(open(f'./negative_sample_batches/sample_batch_{bi}.pickle', 'rb')))"
   ]
  },
  {
   "cell_type": "code",
   "execution_count": 28,
   "id": "c7a93ed1-4afe-4d2a-8a7c-79fe5ecaeb2b",
   "metadata": {},
   "outputs": [],
   "source": [
    "def fetch_vectors(dataset, ids) -> dict:\n",
    "  # document id to index\n",
    "  return dataset['vectors'][ids]"
   ]
  },
  {
   "cell_type": "code",
   "execution_count": 29,
   "id": "d986779d-82fc-477c-8873-0a3c5d4b61ce",
   "metadata": {},
   "outputs": [],
   "source": [
    "DOC_EMBEDDINGS_PATH = '/home/catalinlup/MyWorkspace/MasterThesis/datasets/h5_indices/faiss.msmarco-v1-passage.tct_colbert.h5'"
   ]
  },
  {
   "cell_type": "code",
   "execution_count": 4,
   "id": "8c9bf8af-7c54-401d-9a93-31b049e3a281",
   "metadata": {},
   "outputs": [
    {
     "name": "stderr",
     "output_type": "stream",
     "text": [
      "100%|████████████████████████████████████████| 809/809 [00:02<00:00, 269.94it/s]\n"
     ]
    }
   ],
   "source": [
    "FINAL_DATASET = defaultdict(lambda: defaultdict(list))\n",
    "# with h5py.File(DOC_EMBEDDINGS_PATH, 'r') as doc_vecs:\n",
    "for batch in tqdm(BATCHES):\n",
    "    for query in batch.keys():\n",
    "        if len(batch[query]['pos_docs']) == 0:\n",
    "            continue\n",
    "        \n",
    "        FINAL_DATASET[query]['pos'] = list(map(lambda x: x[0], batch[query]['pos_docs']))\n",
    "        FINAL_DATASET[query]['pos_scores'] = list(map(lambda x: x[1], batch[query]['pos_docs']))\n",
    "        FINAL_DATASET[query]['neg'] = list(map(lambda x: x[0], batch[query]['neg_docs']))\n",
    "        FINAL_DATASET[query]['neg_scores'] = list(map(lambda x: x[1], batch[query]['neg_docs']))\n",
    "\n",
    "        "
   ]
  },
  {
   "cell_type": "code",
   "execution_count": 5,
   "id": "db393650-5d33-4512-bdfe-c3b02ceb9aa3",
   "metadata": {},
   "outputs": [],
   "source": [
    "pickle.dump(dict(FINAL_DATASET), open('./triples_dataset/final_dataset_sparse.pickle', 'wb'))"
   ]
  },
  {
   "cell_type": "code",
   "execution_count": 6,
   "id": "e844ae07-73ea-470d-ae35-695b0ef0e962",
   "metadata": {},
   "outputs": [
    {
     "name": "stdout",
     "output_type": "stream",
     "text": [
      "502930\n"
     ]
    }
   ],
   "source": [
    "print(len(FINAL_DATASET.keys()))"
   ]
  },
  {
   "cell_type": "code",
   "execution_count": null,
   "id": "37fe267c-82a1-460d-b034-795a05c5fbae",
   "metadata": {},
   "outputs": [],
   "source": []
  }
 ],
 "metadata": {
  "kernelspec": {
   "display_name": "Python 3 (ipykernel)",
   "language": "python",
   "name": "python3"
  },
  "language_info": {
   "codemirror_mode": {
    "name": "ipython",
    "version": 3
   },
   "file_extension": ".py",
   "mimetype": "text/x-python",
   "name": "python",
   "nbconvert_exporter": "python",
   "pygments_lexer": "ipython3",
   "version": "3.10.13"
  }
 },
 "nbformat": 4,
 "nbformat_minor": 5
}

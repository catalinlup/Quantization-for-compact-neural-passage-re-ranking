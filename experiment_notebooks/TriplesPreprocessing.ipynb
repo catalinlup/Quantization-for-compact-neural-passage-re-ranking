{
 "cells": [
  {
   "cell_type": "code",
   "execution_count": 2,
   "id": "6fdd7b63-7af9-48cf-a0cf-82c02e057de9",
   "metadata": {},
   "outputs": [],
   "source": [
    "import torch\n",
    "import numpy as np\n",
    "import os\n",
    "import pickle\n",
    "import h5py\n",
    "import pandas as pd\n",
    "import datetime\n",
    "import time\n"
   ]
  },
  {
   "cell_type": "code",
   "execution_count": 3,
   "id": "f0f0d97e-9671-4322-a451-9cd4a4f229f7",
   "metadata": {},
   "outputs": [],
   "source": [
    "triple_data = pickle.load(open('./checkpoints/samples_by_qid_50000.pickle', 'rb'))"
   ]
  },
  {
   "cell_type": "code",
   "execution_count": 4,
   "id": "09ea066a-b904-4b03-bbfd-2f9fe7fd7757",
   "metadata": {},
   "outputs": [
    {
     "data": {
      "application/vnd.jupyter.widget-view+json": {
       "model_id": "c143153d0efa42218e195e4f603c1b75",
       "version_major": 2,
       "version_minor": 0
      },
      "text/plain": [
       "  0%|          | 0/30264 [00:00<?, ?it/s]"
      ]
     },
     "metadata": {},
     "output_type": "display_data"
    }
   ],
   "source": [
    "unique_pos_docs = []\n",
    "unique_neg_docs = []\n",
    "\n",
    "\n",
    "for qid in tqdm(triple_data.keys()):\n",
    "  tr = triple_data[qid]\n",
    "  pos_docs = list(map(lambda x: int(x[0]), tr['pos_docs']))\n",
    "  neg_docs = list(map(lambda x: int(x[0]), tr['neg_docs']))\n",
    "\n",
    "  unique_pos_docs += pos_docs\n",
    "  unique_neg_docs += neg_docs\n",
    "\n",
    "unique_pos_docs = np.array(sorted(set(unique_pos_docs)))\n",
    "unique_neg_docs = np.array(sorted(set(unique_neg_docs)))\n"
   ]
  },
  {
   "cell_type": "code",
   "execution_count": 5,
   "id": "6cca650f-470a-4200-b00a-e87192fd3b3c",
   "metadata": {},
   "outputs": [],
   "source": [
    "def fetch_vectors(dataset, ids: np.ndarray) -> dict:\n",
    "  # document id to index\n",
    "  return dataset['vectors'][ids]"
   ]
  },
  {
   "cell_type": "code",
   "execution_count": null,
   "id": "ccc23214-f8a2-4edf-90a4-542cc5adc002",
   "metadata": {},
   "outputs": [],
   "source": [
    "DOC_EMBEDDINGS_PATH = '/home/catalinlup/MyWorkspace/MasterThesis/datasets/h5_indices/faiss.msmarco-v1-passage.tct_colbert.h5'\n",
    "with h5py.File(DOC_EMBEDDINGS_PATH, 'r') as doc_vecs:\n",
    "  pos_doc_vectors = fetch_vectors(doc_vecs, unique_pos_docs)\n",
    "  neg_vectors = fetch_vectors(doc_vecs, unique_neg_docs)"
   ]
  },
  {
   "cell_type": "code",
   "execution_count": null,
   "id": "054cb107-1d06-4571-ac83-885943add3ad",
   "metadata": {},
   "outputs": [],
   "source": [
    "pickle.dump(pos_doc_vectors, open('./checkpoints/pos_doc_vectors.pickle', 'rb'))\n",
    "pickle.dump(neg_vectors, open('./checkpoints/neg_vectors.pickle', 'rb'))"
   ]
  }
 ],
 "metadata": {
  "kernelspec": {
   "display_name": "Python 3 (ipykernel)",
   "language": "python",
   "name": "python3"
  },
  "language_info": {
   "codemirror_mode": {
    "name": "ipython",
    "version": 3
   },
   "file_extension": ".py",
   "mimetype": "text/x-python",
   "name": "python",
   "nbconvert_exporter": "python",
   "pygments_lexer": "ipython3",
   "version": "3.10.13"
  }
 },
 "nbformat": 4,
 "nbformat_minor": 5
}

{
 "cells": [
  {
   "cell_type": "code",
   "execution_count": 52,
   "id": "a2f099fa-8a42-4bed-afb4-fc8dfcccdc9f",
   "metadata": {},
   "outputs": [],
   "source": [
    "from colbert.modeling.checkpoint import Checkpoint\n",
    "from colbert.infra import Run, RunConfig, ColBERTConfig\n",
    "from colbert.modeling.colbert import colbert_score\n",
    "import torch"
   ]
  },
  {
   "cell_type": "code",
   "execution_count": 3,
   "id": "31b98470-e8e8-4393-acc3-fb16ca5001bc",
   "metadata": {},
   "outputs": [],
   "source": [
    "MODEL_PATH = '/home/catalinlup/MyWorkspace/MasterThesis/models/colbertv2.0'"
   ]
  },
  {
   "cell_type": "code",
   "execution_count": 17,
   "id": "8bad6917-6fd9-4764-b536-8bf582fff5c1",
   "metadata": {},
   "outputs": [],
   "source": [
    "config = ColBERTConfig()\n",
    "checkpoint = Checkpoint(MODEL_PATH, config)"
   ]
  },
  {
   "cell_type": "code",
   "execution_count": 98,
   "id": "82414827-dd8d-4a2a-9c7d-549ae5830be9",
   "metadata": {},
   "outputs": [
    {
     "name": "stdout",
     "output_type": "stream",
     "text": [
      "torch.Size([2, 9, 128])\n"
     ]
    }
   ],
   "source": [
    "D = checkpoint.docFromText([\"Lorem Ipsum Dolor\", \"Color Molor Dolor\"])\n",
    "print(D.shape)"
   ]
  },
  {
   "cell_type": "code",
   "execution_count": 95,
   "id": "55b99aa6-47eb-4586-b834-d710a1d4fa31",
   "metadata": {},
   "outputs": [],
   "source": [
    "Q = checkpoint.queryFromText([\"Lorem Ipsum Dolor\"])"
   ]
  },
  {
   "cell_type": "code",
   "execution_count": 96,
   "id": "ed2c7c6d-0def-4013-9c3d-c0513b1e65cf",
   "metadata": {},
   "outputs": [],
   "source": [
    "def max_sim(Q, D_batch):\n",
    "\n",
    "    scores_per_query = []\n",
    "\n",
    "    for i in range(Q.shape[0]):\n",
    "        scores = D @ Q[i, :, :].reshape(1, Q.shape[1], Q.shape[2]).to(dtype=D.dtype).permute(0, 2, 1)\n",
    "        scores_per_query.append(torch.max(scores, dim=1).values.sum(dim=1))\n",
    "\n",
    "    if len(scores_per_query) == 1:\n",
    "        return scores_per_query[0]\n",
    "        \n",
    "    return torch.stack(scores_per_query)\n",
    "    \n",
    "        \n"
   ]
  },
  {
   "cell_type": "code",
   "execution_count": 97,
   "id": "1513eb11-a912-4c45-89f4-c4eabcad34f3",
   "metadata": {},
   "outputs": [
    {
     "data": {
      "text/plain": [
       "tensor([29.7595, 11.8009])"
      ]
     },
     "execution_count": 97,
     "metadata": {},
     "output_type": "execute_result"
    }
   ],
   "source": [
    "max_sim(Q, D)"
   ]
  },
  {
   "cell_type": "code",
   "execution_count": null,
   "id": "a6151f14-5f0f-48e9-985e-da0b1d48c13a",
   "metadata": {},
   "outputs": [],
   "source": []
  },
  {
   "cell_type": "code",
   "execution_count": null,
   "id": "82b1435b-0d35-46ea-bf99-39b713dfa92a",
   "metadata": {},
   "outputs": [],
   "source": []
  }
 ],
 "metadata": {
  "kernelspec": {
   "display_name": "Python 3 (ipykernel)",
   "language": "python",
   "name": "python3"
  },
  "language_info": {
   "codemirror_mode": {
    "name": "ipython",
    "version": 3
   },
   "file_extension": ".py",
   "mimetype": "text/x-python",
   "name": "python",
   "nbconvert_exporter": "python",
   "pygments_lexer": "ipython3",
   "version": "3.10.13"
  }
 },
 "nbformat": 4,
 "nbformat_minor": 5
}

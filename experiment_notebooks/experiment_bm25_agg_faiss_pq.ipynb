{
 "cells": [
  {
   "cell_type": "code",
   "execution_count": 6,
   "id": "d95cbae0-3b72-4be1-8237-0fe09099fa7f",
   "metadata": {},
   "outputs": [
    {
     "name": "stderr",
     "output_type": "stream",
     "text": [
      "/home/catalinlup/anaconda3/envs/ranking/lib/python3.10/site-packages/tqdm/auto.py:21: TqdmWarning: IProgress not found. Please update jupyter and ipywidgets. See https://ipywidgets.readthedocs.io/en/stable/user_install.html\n",
      "  from .autonotebook import tqdm as notebook_tqdm\n"
     ]
    }
   ],
   "source": [
    "from pathlib import Path\n",
    "import sys\n",
    "sys.path.append('../')\n",
    "from quantized_fast_forward.fast_forward.index import FaissPQIndex, Mode\n",
    "from quantized_fast_forward.fast_forward.encoder import QueryEncoder\n",
    "from quantized_fast_forward.fast_forward.ranking import Ranking\n",
    "from pyserini.search.faiss import AggretrieverQueryEncoder\n",
    "import numpy as np\n",
    "import pickle"
   ]
  },
  {
   "cell_type": "code",
   "execution_count": 7,
   "id": "b928d6c1-7d3a-4adf-824f-ef17bf70dfb7",
   "metadata": {},
   "outputs": [],
   "source": [
    "# define the query encoders\n",
    "class FFAggretrieverQueryEncoder(QueryEncoder):\n",
    "    def __init__(self, model_name, device=\"cpu\"):\n",
    "        self._enc = AggretrieverQueryEncoder(model_name, device=device)\n",
    "\n",
    "    # for whatever reason, pyserini flattens the outputs, so we need this\n",
    "    # TODO: implement batch encoding\n",
    "    def encode(self, queries):\n",
    "        return np.array([self._enc.encode(q) for q in queries])"
   ]
  },
  {
   "cell_type": "code",
   "execution_count": 8,
   "id": "6a34f7b8-9a77-40c7-b4de-a42e1563d5bf",
   "metadata": {},
   "outputs": [],
   "source": [
    "# load the queries\n",
    "import ir_datasets\n",
    "\n",
    "psg20 = ir_datasets.load(\"msmarco-passage/trec-dl-2020\")\n",
    "queries_psg20 = {x.query_id: x.text for x in psg20.queries_iter()}"
   ]
  },
  {
   "cell_type": "code",
   "execution_count": 9,
   "id": "0518a2a6-6646-4037-b5f5-a37f22e50372",
   "metadata": {},
   "outputs": [
    {
     "name": "stdout",
     "output_type": "stream",
     "text": [
      "loaded run with 200 queries\n"
     ]
    }
   ],
   "source": [
    "# load the ranking\n",
    "bm25_ranking = Ranking.from_file(Path(\"/home/catalinlup/MyWorkspace/MasterThesis/datasets/run_files/msmarco_psg_bm25_rankings.tsv\"))\n",
    "print(f\"loaded run with {len(bm25_ranking)} queries\")\n",
    "\n",
    "# print(splade_ranking)\n",
    "\n",
    "for q_id in bm25_ranking.q_ids:\n",
    "    assert q_id in queries_psg20"
   ]
  },
  {
   "cell_type": "code",
   "execution_count": 10,
   "id": "4fa65539-9b4f-47d3-98de-c743d579fd8f",
   "metadata": {},
   "outputs": [],
   "source": [
    "# # run the re-ranking experiment without any interpolation\n",
    "# alpha2 = 0.0\n",
    "# result2 = index.get_scores(\n",
    "#     bm25_ranking,\n",
    "#     queries_psg20,\n",
    "#     alpha=alpha2,\n",
    "# )"
   ]
  },
  {
   "cell_type": "code",
   "execution_count": 11,
   "id": "8fe1011e-b505-48f6-bd92-1c084875dd8c",
   "metadata": {},
   "outputs": [],
   "source": [
    "\n",
    "# print(\n",
    "#     \"BM25\",\n",
    "#     calc_aggregate(METRICS, psg20.qrels_iter(), bm25_ranking.run),\n",
    "# )\n",
    "# print(\n",
    "#     f\"BM25, Aggretriever (alpha={alpha2})\",\n",
    "#     calc_aggregate(METRICS, psg20.qrels_iter(), result2[alpha2].run),\n",
    "# )"
   ]
  },
  {
   "cell_type": "markdown",
   "id": "0fe45bdf-9649-46d0-b820-b588c1f63073",
   "metadata": {},
   "source": [
    "# Experiments"
   ]
  },
  {
   "cell_type": "code",
   "execution_count": 12,
   "id": "00b579c8-0dce-4240-bd05-80dfb92d23ec",
   "metadata": {},
   "outputs": [],
   "source": [
    "INDICES = {\n",
    "    'agg_m_6_k_256_10000': '/home/catalinlup/MyWorkspace/MasterThesis/datasets/quantized_indices/agg_m_6_k_256_10000.pickle',\n",
    "    # 'agg_m_6_k_256_200000': '/home/catalinlup/MyWorkspace/MasterThesis/datasets/quantized_indices/agg_m_6_k_256_200000.pickle',\n",
    "    # 'agg_m_6_k_512_200000': '/home/catalinlup/MyWorkspace/MasterThesis/datasets/quantized_indices/agg_m_6_k_512_200000.pickle',\n",
    "    # 'agg_m_6_k_1024_200000': '/home/catalinlup/MyWorkspace/MasterThesis/datasets/quantized_indices/agg_m_6_k_1024_200000.pickle',\n",
    "    # 'agg_m_6_k_2048_200000': '/home/catalinlup/MyWorkspace/MasterThesis/datasets/quantized_indices/agg_m_6_k_2048_200000.pickle',\n",
    "    # 'agg_m_6_k_4096_200000': '/home/catalinlup/MyWorkspace/MasterThesis/datasets/quantized_indices/agg_m_6_k_4096_200000.pickle'\n",
    "}"
   ]
  },
  {
   "cell_type": "code",
   "execution_count": 13,
   "id": "6f953d61-0635-484b-b7b0-894bda5f5a28",
   "metadata": {},
   "outputs": [],
   "source": [
    "from ir_measures import calc_aggregate, nDCG, AP, RR\n",
    "METRICS = [nDCG@10, AP(rel=2)@1000, RR(rel=2)@10]\n",
    "ALPHA = 0.0\n",
    "\n",
    "def perform_experiment(index_path: str):\n",
    "    # define the index\n",
    "    index = FaissPQIndex.from_disk(\n",
    "    Path(index_path),\n",
    "    FFAggretrieverQueryEncoder(\"castorini/aggretriever-cocondenser\"),\n",
    "    )\n",
    "\n",
    "    result = index.get_scores(\n",
    "        bm25_ranking,\n",
    "        queries_psg20,\n",
    "        alpha=ALPHA,\n",
    "    )\n",
    "\n",
    "    return result\n",
    "\n",
    "def run_experiments(experiment_dict: dict) -> dict:\n",
    "    results = dict()\n",
    "    for experiment_name in experiment_dict.keys():\n",
    "        results[experiment_name] = perform_experiment(INDICES[experiment_name])\n",
    "\n",
    "    return results\n",
    "\n",
    "\n",
    "def print_experimental_result(experimental_results: dict):\n",
    "    for experiment_name in experimental_results.keys():\n",
    "        print(\n",
    "            f\"BM25, Aggretriever (quant={experiment_name} ,alpha={ALPHA})\",\n",
    "            calc_aggregate(METRICS, psg20.qrels_iter(), experimental_results[experiment_name][ALPHA].run),\n",
    "        )\n",
    "        "
   ]
  },
  {
   "cell_type": "code",
   "execution_count": 14,
   "id": "9514d2ed-9c6e-48a4-84b7-bf20a34c69b9",
   "metadata": {},
   "outputs": [
    {
     "name": "stderr",
     "output_type": "stream",
     "text": [
      "100%|█████████████████████████████████████████████████████████████████████████████████████████████████████████| 200/200 [00:25<00:00,  7.94it/s]\n"
     ]
    }
   ],
   "source": [
    "results = run_experiments(INDICES)"
   ]
  },
  {
   "cell_type": "code",
   "execution_count": 16,
   "id": "451115a1-31ae-4256-8896-2d5ea3063ff7",
   "metadata": {},
   "outputs": [],
   "source": [
    "pickle.dump(results, open('./results/bm25_agg_pq_results.pickle', 'wb'))"
   ]
  },
  {
   "cell_type": "code",
   "execution_count": 17,
   "id": "ba43232c-7a38-47cf-82f4-175f221338e0",
   "metadata": {},
   "outputs": [
    {
     "name": "stdout",
     "output_type": "stream",
     "text": [
      "BM25, Aggretriever (quant=agg_m_6_k_256_10000 ,alpha=0.0) {RR(rel=2)@10: 0.4211640211640211, nDCG@10: 0.3177726016866164, AP(rel=2)@1000: 0.19007536867518357}\n"
     ]
    }
   ],
   "source": [
    "print_experimental_result(results)"
   ]
  },
  {
   "cell_type": "code",
   "execution_count": null,
   "id": "ecf08ca2-3c56-475b-8ea6-898b8c47ab0e",
   "metadata": {},
   "outputs": [],
   "source": []
  }
 ],
 "metadata": {
  "kernelspec": {
   "display_name": "Python 3 (ipykernel)",
   "language": "python",
   "name": "python3"
  },
  "language_info": {
   "codemirror_mode": {
    "name": "ipython",
    "version": 3
   },
   "file_extension": ".py",
   "mimetype": "text/x-python",
   "name": "python",
   "nbconvert_exporter": "python",
   "pygments_lexer": "ipython3",
   "version": "3.10.13"
  }
 },
 "nbformat": 4,
 "nbformat_minor": 5
}

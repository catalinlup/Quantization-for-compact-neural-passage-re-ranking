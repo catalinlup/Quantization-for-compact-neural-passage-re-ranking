{
 "cells": [
  {
   "cell_type": "code",
   "execution_count": 1,
   "id": "d95cbae0-3b72-4be1-8237-0fe09099fa7f",
   "metadata": {},
   "outputs": [
    {
     "name": "stderr",
     "output_type": "stream",
     "text": [
      "/home/catalinlup/anaconda3/envs/ranking/lib/python3.10/site-packages/tqdm/auto.py:21: TqdmWarning: IProgress not found. Please update jupyter and ipywidgets. See https://ipywidgets.readthedocs.io/en/stable/user_install.html\n",
      "  from .autonotebook import tqdm as notebook_tqdm\n"
     ]
    }
   ],
   "source": [
    "from pathlib import Path\n",
    "import sys\n",
    "sys.path.append('../')\n",
    "from quantized_fast_forward.fast_forward.index import FaissPQIndex, Mode\n",
    "from quantized_fast_forward.fast_forward.encoder import QueryEncoder\n",
    "from quantized_fast_forward.fast_forward.ranking import Ranking\n",
    "from pyserini.search.faiss import AggretrieverQueryEncoder\n",
    "import numpy as np\n",
    "import pickle"
   ]
  },
  {
   "cell_type": "code",
   "execution_count": 2,
   "id": "b928d6c1-7d3a-4adf-824f-ef17bf70dfb7",
   "metadata": {},
   "outputs": [],
   "source": [
    "# define the query encoders\n",
    "class FFAggretrieverQueryEncoder(QueryEncoder):\n",
    "    def __init__(self, model_name, device=\"cpu\"):\n",
    "        self._enc = AggretrieverQueryEncoder(model_name, device=device)\n",
    "\n",
    "    # for whatever reason, pyserini flattens the outputs, so we need this\n",
    "    # TODO: implement batch encoding\n",
    "    def encode(self, queries):\n",
    "        return np.array([self._enc.encode(q) for q in queries])"
   ]
  },
  {
   "cell_type": "code",
   "execution_count": 3,
   "id": "6a34f7b8-9a77-40c7-b4de-a42e1563d5bf",
   "metadata": {},
   "outputs": [],
   "source": [
    "# load the queries\n",
    "import ir_datasets\n",
    "\n",
    "psg20 = ir_datasets.load(\"msmarco-passage/trec-dl-2020\")\n",
    "queries_psg20 = {x.query_id: x.text for x in psg20.queries_iter()}"
   ]
  },
  {
   "cell_type": "code",
   "execution_count": 4,
   "id": "0518a2a6-6646-4037-b5f5-a37f22e50372",
   "metadata": {},
   "outputs": [
    {
     "name": "stdout",
     "output_type": "stream",
     "text": [
      "loaded run with 200 queries\n"
     ]
    }
   ],
   "source": [
    "# load the ranking\n",
    "bm25_ranking = Ranking.from_file(Path(\"/home/catalinlup/MyWorkspace/MasterThesis/datasets/run_files/msmarco_psg_bm25_rankings.tsv\"))\n",
    "print(f\"loaded run with {len(bm25_ranking)} queries\")\n",
    "\n",
    "# print(splade_ranking)\n",
    "\n",
    "for q_id in bm25_ranking.q_ids:\n",
    "    assert q_id in queries_psg20"
   ]
  },
  {
   "cell_type": "code",
   "execution_count": 5,
   "id": "4fa65539-9b4f-47d3-98de-c743d579fd8f",
   "metadata": {},
   "outputs": [],
   "source": [
    "# # run the re-ranking experiment without any interpolation\n",
    "# alpha2 = 0.0\n",
    "# result2 = index.get_scores(\n",
    "#     bm25_ranking,\n",
    "#     queries_psg20,\n",
    "#     alpha=alpha2,\n",
    "# )"
   ]
  },
  {
   "cell_type": "code",
   "execution_count": 6,
   "id": "8fe1011e-b505-48f6-bd92-1c084875dd8c",
   "metadata": {},
   "outputs": [],
   "source": [
    "\n",
    "# print(\n",
    "#     \"BM25\",\n",
    "#     calc_aggregate(METRICS, psg20.qrels_iter(), bm25_ranking.run),\n",
    "# )\n",
    "# print(\n",
    "#     f\"BM25, Aggretriever (alpha={alpha2})\",\n",
    "#     calc_aggregate(METRICS, psg20.qrels_iter(), result2[alpha2].run),\n",
    "# )"
   ]
  },
  {
   "cell_type": "markdown",
   "id": "0fe45bdf-9649-46d0-b820-b588c1f63073",
   "metadata": {},
   "source": [
    "# Experiments"
   ]
  },
  {
   "cell_type": "code",
   "execution_count": 5,
   "id": "00b579c8-0dce-4240-bd05-80dfb92d23ec",
   "metadata": {},
   "outputs": [],
   "source": [
    "INDICES = {\n",
    "    'agg_m_6_k_256_10000': '/home/catalinlup/MyWorkspace/MasterThesis/datasets/quantized_indices/agg_m_6_k_256_10000.pickle',\n",
    "    'agg_m_6_k_256_200000': '/home/catalinlup/MyWorkspace/MasterThesis/datasets/quantized_indices/agg_m_6_k_256_200000.pickle',\n",
    "    # 'agg_m_6_k_512_200000': '/home/catalinlup/MyWorkspace/MasterThesis/datasets/quantized_indices/agg_m_6_k_512_200000.pickle',\n",
    "    # 'agg_m_6_k_1024_200000': '/home/catalinlup/MyWorkspace/MasterThesis/datasets/quantized_indices/agg_m_6_k_1024_200000.pickle',\n",
    "    # 'agg_m_6_k_2048_200000': '/home/catalinlup/MyWorkspace/MasterThesis/datasets/quantized_indices/agg_m_6_k_2048_200000.pickle',\n",
    "    'agg_m_6_k_4096_200000': '/home/catalinlup/MyWorkspace/MasterThesis/datasets/quantized_indices/agg_m_6_k_4096_200000.pickle'\n",
    "}"
   ]
  },
  {
   "cell_type": "code",
   "execution_count": 6,
   "id": "6f953d61-0635-484b-b7b0-894bda5f5a28",
   "metadata": {},
   "outputs": [],
   "source": [
    "from ir_measures import calc_aggregate, nDCG, AP, RR\n",
    "METRICS = [nDCG@10, AP(rel=2)@1000, RR(rel=2)@10]\n",
    "\n",
    "ALPHA_RANGE = [0, 0.1, 0.3, 0.5, 0.7]\n",
    "\n",
    "def perform_experiment(index_path: str):\n",
    "    # define the index\n",
    "    index = FaissPQIndex.from_disk(\n",
    "    Path(index_path),\n",
    "    FFAggretrieverQueryEncoder(\"castorini/aggretriever-cocondenser\"),\n",
    "    )\n",
    "\n",
    "    result = index.get_scores(\n",
    "        bm25_ranking,\n",
    "        queries_psg20,\n",
    "        alpha=ALPHA_RANGE,\n",
    "    )\n",
    "\n",
    "    return result\n",
    "\n",
    "def run_experiments(experiment_dict: dict) -> dict:\n",
    "    results = dict()\n",
    "    for experiment_name in experiment_dict.keys():\n",
    "        results[experiment_name] = perform_experiment(INDICES[experiment_name])\n",
    "\n",
    "    return results\n",
    "\n",
    "\n",
    "def print_experimental_result(experimental_results: dict):\n",
    "    for experiment_name in experimental_results.keys():\n",
    "        for ALPHA in ALPHA_RANGE:\n",
    "            print(\n",
    "                f\"BM25, Aggretriever (quant={experiment_name} ,alpha={ALPHA})\",\n",
    "                calc_aggregate(METRICS, psg20.qrels_iter(), experimental_results[experiment_name][ALPHA].run),\n",
    "            )\n",
    "        "
   ]
  },
  {
   "cell_type": "code",
   "execution_count": 7,
   "id": "9514d2ed-9c6e-48a4-84b7-bf20a34c69b9",
   "metadata": {},
   "outputs": [
    {
     "name": "stderr",
     "output_type": "stream",
     "text": [
      "100%|█████████████████████████████████████████| 200/200 [00:19<00:00, 10.18it/s]\n",
      "100%|█████████████████████████████████████████| 200/200 [00:21<00:00,  9.37it/s]\n",
      "100%|█████████████████████████████████████████| 200/200 [00:22<00:00,  8.71it/s]\n"
     ]
    }
   ],
   "source": [
    "results = run_experiments(INDICES)"
   ]
  },
  {
   "cell_type": "code",
   "execution_count": 8,
   "id": "451115a1-31ae-4256-8896-2d5ea3063ff7",
   "metadata": {},
   "outputs": [],
   "source": [
    "pickle.dump(results, open('results/bm25_agg_pq_interpolation_results.pickle', 'wb'))"
   ]
  },
  {
   "cell_type": "code",
   "execution_count": 9,
   "id": "ba43232c-7a38-47cf-82f4-175f221338e0",
   "metadata": {},
   "outputs": [
    {
     "name": "stdout",
     "output_type": "stream",
     "text": [
      "BM25, Aggretriever (quant=agg_m_6_k_256_10000 ,alpha=0) {RR(rel=2)@10: 0.42116402116402113, nDCG@10: 0.31777260168661636, AP(rel=2)@1000: 0.19007536867518368}\n",
      "BM25, Aggretriever (quant=agg_m_6_k_256_10000 ,alpha=0.1) {RR(rel=2)@10: 0.536111111111111, nDCG@10: 0.40659782260008326, AP(rel=2)@1000: 0.23576199774190162}\n",
      "BM25, Aggretriever (quant=agg_m_6_k_256_10000 ,alpha=0.3) {RR(rel=2)@10: 0.6116255144032922, nDCG@10: 0.48139347389733217, AP(rel=2)@1000: 0.28775042034605847}\n",
      "BM25, Aggretriever (quant=agg_m_6_k_256_10000 ,alpha=0.5) {RR(rel=2)@10: 0.6513374485596709, nDCG@10: 0.5330075624541892, AP(rel=2)@1000: 0.3309835914053803}\n",
      "BM25, Aggretriever (quant=agg_m_6_k_256_10000 ,alpha=0.7) {RR(rel=2)@10: 0.6536522633744857, nDCG@10: 0.5409773554316752, AP(rel=2)@1000: 0.3419102659176829}\n",
      "BM25, Aggretriever (quant=agg_m_6_k_256_200000 ,alpha=0) {RR(rel=2)@10: 0.49212228101116995, nDCG@10: 0.36089018324647426, AP(rel=2)@1000: 0.20934656069624788}\n",
      "BM25, Aggretriever (quant=agg_m_6_k_256_200000 ,alpha=0.1) {RR(rel=2)@10: 0.5784979423868312, nDCG@10: 0.4354239039526396, AP(rel=2)@1000: 0.2428474753192688}\n",
      "BM25, Aggretriever (quant=agg_m_6_k_256_200000 ,alpha=0.3) {RR(rel=2)@10: 0.6608024691358024, nDCG@10: 0.520695612785854, AP(rel=2)@1000: 0.3050530853916685}\n",
      "BM25, Aggretriever (quant=agg_m_6_k_256_200000 ,alpha=0.5) {RR(rel=2)@10: 0.7153439153439154, nDCG@10: 0.5509274992777484, AP(rel=2)@1000: 0.34177661917948077}\n",
      "BM25, Aggretriever (quant=agg_m_6_k_256_200000 ,alpha=0.7) {RR(rel=2)@10: 0.6844870664315108, nDCG@10: 0.5498725803626742, AP(rel=2)@1000: 0.3435811763949315}\n",
      "BM25, Aggretriever (quant=agg_m_6_k_4096_200000 ,alpha=0) {RR(rel=2)@10: 0.6508744855967078, nDCG@10: 0.4847939215113134, AP(rel=2)@1000: 0.3120463464183221}\n",
      "BM25, Aggretriever (quant=agg_m_6_k_4096_200000 ,alpha=0.1) {RR(rel=2)@10: 0.6872134038800704, nDCG@10: 0.5186303794604314, AP(rel=2)@1000: 0.3268126556173134}\n",
      "BM25, Aggretriever (quant=agg_m_6_k_4096_200000 ,alpha=0.3) {RR(rel=2)@10: 0.730114638447972, nDCG@10: 0.5562773501499348, AP(rel=2)@1000: 0.3517233616868321}\n",
      "BM25, Aggretriever (quant=agg_m_6_k_4096_200000 ,alpha=0.5) {RR(rel=2)@10: 0.7228395061728394, nDCG@10: 0.5660839266388034, AP(rel=2)@1000: 0.36382401732171815}\n",
      "BM25, Aggretriever (quant=agg_m_6_k_4096_200000 ,alpha=0.7) {RR(rel=2)@10: 0.7416666666666665, nDCG@10: 0.5655376156524015, AP(rel=2)@1000: 0.3610823612544097}\n"
     ]
    }
   ],
   "source": [
    "print_experimental_result(results)"
   ]
  },
  {
   "cell_type": "code",
   "execution_count": null,
   "id": "521a80a2-7949-4e3b-966c-89de5b230bd7",
   "metadata": {},
   "outputs": [],
   "source": []
  }
 ],
 "metadata": {
  "kernelspec": {
   "display_name": "Python 3 (ipykernel)",
   "language": "python",
   "name": "python3"
  },
  "language_info": {
   "codemirror_mode": {
    "name": "ipython",
    "version": 3
   },
   "file_extension": ".py",
   "mimetype": "text/x-python",
   "name": "python",
   "nbconvert_exporter": "python",
   "pygments_lexer": "ipython3",
   "version": "3.10.13"
  }
 },
 "nbformat": 4,
 "nbformat_minor": 5
}

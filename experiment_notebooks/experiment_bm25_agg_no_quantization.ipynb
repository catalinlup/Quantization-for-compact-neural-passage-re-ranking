{
 "cells": [
  {
   "cell_type": "code",
   "execution_count": 1,
   "id": "f7db4e6c-9d79-40d3-bfe5-9e6021cf0902",
   "metadata": {},
   "outputs": [
    {
     "name": "stderr",
     "output_type": "stream",
     "text": [
      "/home/catalinlup/anaconda3/envs/ranking/lib/python3.10/site-packages/tqdm/auto.py:21: TqdmWarning: IProgress not found. Please update jupyter and ipywidgets. See https://ipywidgets.readthedocs.io/en/stable/user_install.html\n",
      "  from .autonotebook import tqdm as notebook_tqdm\n"
     ]
    }
   ],
   "source": [
    "from pathlib import Path\n",
    "import sys\n",
    "sys.path.append('../')\n",
    "from quantized_fast_forward.fast_forward.index import H5Index, Mode\n",
    "from quantized_fast_forward.fast_forward.encoder import QueryEncoder\n",
    "from quantized_fast_forward.fast_forward.ranking import Ranking\n",
    "from pyserini.search.faiss import AggretrieverQueryEncoder\n",
    "import numpy as np"
   ]
  },
  {
   "cell_type": "code",
   "execution_count": 2,
   "id": "40a770ba-37b3-497b-a18d-6e3bc306e143",
   "metadata": {},
   "outputs": [],
   "source": [
    "# define the query encoders\n",
    "class FFAggretrieverQueryEncoder(QueryEncoder):\n",
    "    def __init__(self, model_name, device=\"cpu\"):\n",
    "        self._enc = AggretrieverQueryEncoder(model_name, device=device)\n",
    "\n",
    "    # for whatever reason, pyserini flattens the outputs, so we need this\n",
    "    # TODO: implement batch encoding\n",
    "    def encode(self, queries):\n",
    "        return np.array([self._enc.encode(q) for q in queries])"
   ]
  },
  {
   "cell_type": "code",
   "execution_count": 3,
   "id": "2126efcf-7a0b-4bcc-87a4-ec6095b1ace3",
   "metadata": {},
   "outputs": [],
   "source": [
    "# define the index\n",
    "index = H5Index.from_disk(\n",
    "    Path(\"/home/catalinlup/MyWorkspace/MasterThesis/datasets/h5_indices/faiss.msmarco-v1-passage.aggretriever-cocondenser.h5\"),\n",
    "    FFAggretrieverQueryEncoder(\"castorini/aggretriever-cocondenser\"),\n",
    ")"
   ]
  },
  {
   "cell_type": "code",
   "execution_count": 8,
   "id": "9f111a78-9e64-44cd-8237-91de92207e2a",
   "metadata": {},
   "outputs": [
    {
     "name": "stderr",
     "output_type": "stream",
     "text": [
      "/home/catalinlup/MyWorkspace/MasterThesis/ExperimentsCodebase/experiment_notebooks/datasets.py:60: FutureWarning: Series.__getitem__ treating keys as positions is deprecated. In a future version, integer keys will always be treated as labels (consistent with DataFrame behavior). To access a value by position, use `ser.iloc[pos]`\n",
      "  queries_list.append(GenericQuery(str(queries.iloc[i][0]), queries.iloc[i][1]))\n",
      "/home/catalinlup/MyWorkspace/MasterThesis/ExperimentsCodebase/experiment_notebooks/datasets.py:63: FutureWarning: Series.__getitem__ treating keys as positions is deprecated. In a future version, integer keys will always be treated as labels (consistent with DataFrame behavior). To access a value by position, use `ser.iloc[pos]`\n",
      "  qrels_list.append(TrecQrel(query_id=str(qrels.iloc[i][0]), doc_id=str(qrels.iloc[i][2]), relevance=int(qrels.iloc[i][3]), iteration=str(qrels.iloc[i][1])))\n"
     ]
    }
   ],
   "source": [
    "# load the queries\n",
    "from datasets import get_dataset\n",
    "queries, qrel = get_dataset('dev')\n",
    "\n",
    "queries_psg20 = {x.query_id: x.text for x in queries}\n",
    "\n",
    "\n",
    "# psg20 = ir_datasets.load(\"msmarco-passage/trec-dl-2020\")\n",
    "# queries_psg20 = {x.query_id: x.text for x in psg20.queries_iter()}"
   ]
  },
  {
   "cell_type": "code",
   "execution_count": 9,
   "id": "af1cf312-43f7-4926-a873-660fec0302b4",
   "metadata": {},
   "outputs": [
    {
     "name": "stdout",
     "output_type": "stream",
     "text": [
      "loaded run with 200 queries\n"
     ]
    },
    {
     "ename": "AssertionError",
     "evalue": "",
     "output_type": "error",
     "traceback": [
      "\u001b[0;31m---------------------------------------------------------------------------\u001b[0m",
      "\u001b[0;31mAssertionError\u001b[0m                            Traceback (most recent call last)",
      "Cell \u001b[0;32mIn[9], line 8\u001b[0m\n\u001b[1;32m      5\u001b[0m \u001b[38;5;66;03m# print(splade_ranking)\u001b[39;00m\n\u001b[1;32m      7\u001b[0m \u001b[38;5;28;01mfor\u001b[39;00m q_id \u001b[38;5;129;01min\u001b[39;00m bm25_ranking\u001b[38;5;241m.\u001b[39mq_ids:\n\u001b[0;32m----> 8\u001b[0m     \u001b[38;5;28;01massert\u001b[39;00m q_id \u001b[38;5;129;01min\u001b[39;00m queries_psg20\n",
      "\u001b[0;31mAssertionError\u001b[0m: "
     ]
    }
   ],
   "source": [
    "# load the ranking\n",
    "bm25_ranking = Ranking.from_file(Path(\"/home/catalinlup/MyWorkspace/MasterThesis/datasets/run_files/msmarco_psg_bm25_rankings.tsv\"))\n",
    "print(f\"loaded run with {len(bm25_ranking)} queries\")\n",
    "\n",
    "# print(splade_ranking)\n",
    "\n",
    "for q_id in bm25_ranking.q_ids:\n",
    "    assert q_id in queries_psg20"
   ]
  },
  {
   "cell_type": "code",
   "execution_count": 6,
   "id": "aa775dbf-4191-4fbf-ac41-70f814364f1f",
   "metadata": {},
   "outputs": [
    {
     "name": "stderr",
     "output_type": "stream",
     "text": [
      "100%|█████████████████████████████████████████████████████████████████████████████████████████████████████████| 200/200 [02:27<00:00,  1.36it/s]\n"
     ]
    }
   ],
   "source": [
    "# run the re-ranking experiment\n",
    "alpha = 0.3\n",
    "result = index.get_scores(\n",
    "    bm25_ranking,\n",
    "    queries_psg20,\n",
    "    alpha=alpha,\n",
    ")"
   ]
  },
  {
   "cell_type": "code",
   "execution_count": 7,
   "id": "e92d9a92-be98-41c1-8bbf-1c9fdf1047d0",
   "metadata": {},
   "outputs": [
    {
     "name": "stdout",
     "output_type": "stream",
     "text": [
      "BM25 {nDCG@10: 0.4875508583120808, RR(rel=2)@10: 0.6554012345679012, AP(rel=2)@1000: 0.2875982310640567}\n",
      "BM25, Aggretriever (alpha=0.3) {nDCG@10: 0.7165937624269141, RR(rel=2)@10: 0.8252057613168725, AP(rel=2)@1000: 0.4854707093261463}\n"
     ]
    }
   ],
   "source": [
    "from ir_measures import calc_aggregate, nDCG, AP, RR\n",
    "\n",
    "# print(result)\n",
    "\n",
    "METRICS = [nDCG@10, AP(rel=1)@1000, RR(rel=1)@10]\n",
    "\n",
    "print(\n",
    "    \"BM25\",\n",
    "    calc_aggregate(METRICS, qrel, bm25_ranking.run),\n",
    ")\n",
    "print(\n",
    "    f\"BM25, Aggretriever (alpha={alpha})\",\n",
    "    calc_aggregate(METRICS, qrel, result[alpha].run),\n",
    ")"
   ]
  },
  {
   "cell_type": "code",
   "execution_count": 8,
   "id": "dc62c883-efeb-468c-ba34-ae71782aabcc",
   "metadata": {},
   "outputs": [
    {
     "name": "stderr",
     "output_type": "stream",
     "text": [
      "100%|█████████████████████████████████████████████████████████████████████████████████████████████████████████| 200/200 [02:23<00:00,  1.40it/s]\n"
     ]
    }
   ],
   "source": [
    "# run the re-ranking experiment without any interpolation\n",
    "alpha2 = 0.0\n",
    "result2 = index.get_scores(\n",
    "    bm25_ranking,\n",
    "    queries_psg20,\n",
    "    alpha=alpha2,\n",
    ")"
   ]
  },
  {
   "cell_type": "code",
   "execution_count": 9,
   "id": "d2eea71c-81e5-4a88-9695-672edfd8754c",
   "metadata": {},
   "outputs": [
    {
     "name": "stdout",
     "output_type": "stream",
     "text": [
      "BM25, Aggretriever (alpha=0.0) {nDCG@10: 0.7041666136998518, RR(rel=2)@10: 0.8231481481481481, AP(rel=2)@1000: 0.48485635553462436}\n"
     ]
    }
   ],
   "source": [
    "print(\n",
    "    f\"BM25, Aggretriever (alpha={alpha2})\",\n",
    "    calc_aggregate(METRICS, psg20.qrels_iter(), result2[alpha2].run),\n",
    ")"
   ]
  },
  {
   "cell_type": "code",
   "execution_count": null,
   "id": "129d4b28-f233-4389-8d43-59eff384101a",
   "metadata": {},
   "outputs": [],
   "source": []
  },
  {
   "cell_type": "code",
   "execution_count": null,
   "id": "d1509c8b-65df-4c81-9ced-30cc9a7c2d4f",
   "metadata": {},
   "outputs": [],
   "source": []
  }
 ],
 "metadata": {
  "kernelspec": {
   "display_name": "Python 3 (ipykernel)",
   "language": "python",
   "name": "python3"
  },
  "language_info": {
   "codemirror_mode": {
    "name": "ipython",
    "version": 3
   },
   "file_extension": ".py",
   "mimetype": "text/x-python",
   "name": "python",
   "nbconvert_exporter": "python",
   "pygments_lexer": "ipython3",
   "version": "3.10.13"
  }
 },
 "nbformat": 4,
 "nbformat_minor": 5
}

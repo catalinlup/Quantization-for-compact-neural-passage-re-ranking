{
 "cells": [
  {
   "cell_type": "code",
   "execution_count": 17,
   "id": "f7db4e6c-9d79-40d3-bfe5-9e6021cf0902",
   "metadata": {},
   "outputs": [],
   "source": [
    "from pathlib import Path\n",
    "import sys\n",
    "sys.path.append('../')\n",
    "from quantized_fast_forward.fast_forward.index import H5Index, Mode\n",
    "from quantized_fast_forward.fast_forward.encoder import QueryEncoder\n",
    "from quantized_fast_forward.fast_forward.ranking import Ranking\n",
    "from pyserini.search.faiss import AggretrieverQueryEncoder\n",
    "import numpy as np"
   ]
  },
  {
   "cell_type": "code",
   "execution_count": 18,
   "id": "40a770ba-37b3-497b-a18d-6e3bc306e143",
   "metadata": {},
   "outputs": [],
   "source": [
    "# define the query encoders\n",
    "class FFAggretrieverQueryEncoder(QueryEncoder):\n",
    "    def __init__(self, model_name, device=\"cpu\"):\n",
    "        self._enc = AggretrieverQueryEncoder(model_name, device=device)\n",
    "\n",
    "    # for whatever reason, pyserini flattens the outputs, so we need this\n",
    "    # TODO: implement batch encoding\n",
    "    def encode(self, queries):\n",
    "        return np.array([self._enc.encode(q) for q in queries])"
   ]
  },
  {
   "cell_type": "code",
   "execution_count": 19,
   "id": "2126efcf-7a0b-4bcc-87a4-ec6095b1ace3",
   "metadata": {},
   "outputs": [],
   "source": [
    "# define the index\n",
    "index = H5Index.from_disk(\n",
    "    Path(\"/home/catalinlup/MyWorkspace/MasterThesis/datasets/h5_indices/faiss.msmarco-v1-passage.aggretriever-cocondenser.h5\"),\n",
    "    FFAggretrieverQueryEncoder(\"castorini/aggretriever-cocondenser\"),\n",
    ")"
   ]
  },
  {
   "cell_type": "code",
   "execution_count": 20,
   "id": "9f111a78-9e64-44cd-8237-91de92207e2a",
   "metadata": {},
   "outputs": [
    {
     "name": "stderr",
     "output_type": "stream",
     "text": [
      "/home/catalinlup/MyWorkspace/MasterThesis/ExperimentsCodebase/experiment_notebooks/datasets.py:34: FutureWarning: Series.__getitem__ treating keys as positions is deprecated. In a future version, integer keys will always be treated as labels (consistent with DataFrame behavior). To access a value by position, use `ser.iloc[pos]`\n",
      "  queries_list.append(GenericQuery(queries.iloc[i][0], queries.iloc[i][1]))\n",
      "/home/catalinlup/MyWorkspace/MasterThesis/ExperimentsCodebase/experiment_notebooks/datasets.py:37: FutureWarning: Series.__getitem__ treating keys as positions is deprecated. In a future version, integer keys will always be treated as labels (consistent with DataFrame behavior). To access a value by position, use `ser.iloc[pos]`\n",
      "  qrels_list.append(TrecQrel(qrels.iloc[i][0], qrels.iloc[i][2], qrels.iloc[i][3], qrels.iloc[i][1]))\n"
     ]
    }
   ],
   "source": [
    "from datasets import get_dataset\n",
    "\n",
    "CHOSEN_DATASET = 'dev'\n",
    "\n",
    "queries, q_rels = get_dataset(CHOSEN_DATASET)\n",
    "\n",
    "queries_psg20 = {x.query_id: x.text for x in queries}"
   ]
  },
  {
   "cell_type": "code",
   "execution_count": 21,
   "id": "af1cf312-43f7-4926-a873-660fec0302b4",
   "metadata": {},
   "outputs": [
    {
     "name": "stdout",
     "output_type": "stream",
     "text": [
      "loaded run with 200 queries\n"
     ]
    },
    {
     "ename": "AssertionError",
     "evalue": "",
     "output_type": "error",
     "traceback": [
      "\u001b[0;31m---------------------------------------------------------------------------\u001b[0m",
      "\u001b[0;31mAssertionError\u001b[0m                            Traceback (most recent call last)",
      "Cell \u001b[0;32mIn[21], line 8\u001b[0m\n\u001b[1;32m      5\u001b[0m \u001b[38;5;66;03m# print(splade_ranking)\u001b[39;00m\n\u001b[1;32m      7\u001b[0m \u001b[38;5;28;01mfor\u001b[39;00m q_id \u001b[38;5;129;01min\u001b[39;00m splade_ranking\u001b[38;5;241m.\u001b[39mq_ids:\n\u001b[0;32m----> 8\u001b[0m     \u001b[38;5;28;01massert\u001b[39;00m q_id \u001b[38;5;129;01min\u001b[39;00m queries_psg20\n",
      "\u001b[0;31mAssertionError\u001b[0m: "
     ]
    }
   ],
   "source": [
    "# load the ranking\n",
    "splade_ranking = Ranking.from_file(Path(\"/home/catalinlup/MyWorkspace/MasterThesis/datasets/run_files/ms_marco_psg_splade_ranking.tsv\"))\n",
    "print(f\"loaded run with {len(splade_ranking)} queries\")\n",
    "\n",
    "# print(splade_ranking)\n",
    "\n",
    "for q_id in splade_ranking.q_ids:\n",
    "    assert q_id in queries_psg20"
   ]
  },
  {
   "cell_type": "code",
   "execution_count": null,
   "id": "aa775dbf-4191-4fbf-ac41-70f814364f1f",
   "metadata": {},
   "outputs": [],
   "source": [
    "# run the re-ranking experiment\n",
    "alpha = 0.0\n",
    "result = index.get_scores(\n",
    "    splade_ranking,\n",
    "    queries_psg20,\n",
    "    alpha=alpha,\n",
    ")"
   ]
  },
  {
   "cell_type": "code",
   "execution_count": null,
   "id": "e92d9a92-be98-41c1-8bbf-1c9fdf1047d0",
   "metadata": {},
   "outputs": [],
   "source": [
    "from ir_measures import calc_aggregate, nDCG, AP, RR\n",
    "\n",
    "# print(result)\n",
    "\n",
    "METRICS = [nDCG@10, AP(rel=2)@1000, RR(rel=2)@10]\n",
    "\n",
    "print(\n",
    "    \"SPLADE\",\n",
    "    calc_aggregate(METRICS, q_rels, splade_ranking.run),\n",
    ")\n",
    "print(\n",
    "    f\"SPLADE, Aggretriever (alpha={alpha})\",\n",
    "    calc_aggregate(METRICS, q_rels, result[alpha].run),\n",
    ")"
   ]
  },
  {
   "cell_type": "code",
   "execution_count": null,
   "id": "0d62cefd-3e04-4d9a-ad09-e42d0960e909",
   "metadata": {},
   "outputs": [],
   "source": []
  },
  {
   "cell_type": "code",
   "execution_count": null,
   "id": "dea5521d-2304-4a16-8a98-1b0f6c4186c6",
   "metadata": {},
   "outputs": [],
   "source": []
  }
 ],
 "metadata": {
  "kernelspec": {
   "display_name": "Python 3 (ipykernel)",
   "language": "python",
   "name": "python3"
  },
  "language_info": {
   "codemirror_mode": {
    "name": "ipython",
    "version": 3
   },
   "file_extension": ".py",
   "mimetype": "text/x-python",
   "name": "python",
   "nbconvert_exporter": "python",
   "pygments_lexer": "ipython3",
   "version": "3.10.13"
  }
 },
 "nbformat": 4,
 "nbformat_minor": 5
}

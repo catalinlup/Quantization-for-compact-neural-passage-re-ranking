{
 "cells": [
  {
   "cell_type": "code",
   "execution_count": 15,
   "id": "34158bc1-c498-4d68-9adc-3d8a53b554da",
   "metadata": {},
   "outputs": [],
   "source": [
    "import numpy as np\n",
    "import pickle\n",
    "import math"
   ]
  },
  {
   "cell_type": "code",
   "execution_count": 12,
   "id": "c4586472-5f88-4e10-b911-ec6b3daa80e0",
   "metadata": {},
   "outputs": [],
   "source": [
    "SAMPLE_PATH = '/home/catalinlup/MyWorkspace/MasterThesis/datasets/npy_indices/tct_colbert_sample_large.npy'\n",
    "SAMPLE_PATH_INDICES = '/home/catalinlup/MyWorkspace/MasterThesis/datasets/npy_indices/tct_colbert_sample_large_indices.npy'\n",
    "PQ_INDEX_PATH = '/home/catalinlup/MyWorkspace/MasterThesis/datasets/quantized_indices/tct_m_8_k_256_200000.pickle'\n",
    "M = 8\n",
    "K = 256"
   ]
  },
  {
   "cell_type": "code",
   "execution_count": 11,
   "id": "4562cce5-2023-4eac-a626-299fcd2abb55",
   "metadata": {},
   "outputs": [
    {
     "name": "stdout",
     "output_type": "stream",
     "text": [
      "[[ 0.04210953  0.25388956  0.11395846 ... -0.0102931   0.18467581\n",
      "  -0.1058853 ]\n",
      " [ 0.04620727  0.24864034  0.02302429 ... -0.02421323  0.11068066\n",
      "  -0.14104907]\n",
      " [ 0.03764689  0.161587    0.02305674 ... -0.02704101  0.14584206\n",
      "  -0.11022508]\n",
      " ...\n",
      " [-0.035588    0.09653375  0.28182703 ... -0.1333796   0.16759278\n",
      "  -0.05306303]\n",
      " [ 0.02289871  0.38744184  0.12625207 ... -0.13288721 -0.13947684\n",
      "  -0.09221743]\n",
      " [ 0.13320503  0.2494825   0.06553803 ...  0.02482365  0.06466706\n",
      "  -0.10692104]]\n"
     ]
    }
   ],
   "source": [
    "original_vectors = np.load(SAMPLE_PATH)\n",
    "vector_indices = np.load(SAMPLE_PATH_INDICES)\n",
    "print(original_vectors)"
   ]
  },
  {
   "cell_type": "code",
   "execution_count": 21,
   "id": "ae023a92-fc8d-456c-8850-d9ef21bbdb40",
   "metadata": {},
   "outputs": [],
   "source": [
    "pq_index = pickle.load(open(PQ_INDEX_PATH, 'rb'))\n",
    "\n",
    "def reconstruct_vector(vector_index):\n",
    "    codebook = pq_index['codebook']\n",
    "    quantized_index = pq_index['quantized_index']\n",
    " \n",
    "    bits_per_vector = int(math.ceil(math.log2(K)))\n",
    "\n",
    "    offset_ending = 8 * quantized_index.shape[1] - bits_per_vector * M\n",
    "\n",
    "\n",
    "    bytes = quantized_index[vector_index, :]\n",
    "    bit_strings = ['{0:08b}'.format(x)[::-1] for x in bytes]\n",
    "    bit_string = ''.join(bit_strings)\n",
    "\n",
    "    bit_string_with_offsets = bit_string[: len(bit_string) - offset_ending]\n",
    "\n",
    "    sub_vecs = []\n",
    "\n",
    "    for i in range(M):\n",
    "        bit_string_for_index = bit_string_with_offsets[i * bits_per_vector : (i + 1) * bits_per_vector]\n",
    "        index = int(bit_string_for_index[::-1], 2)\n",
    "        sub_vecs.append(codebook[i, index, :])\n",
    "\n",
    "    return np.concatenate(sub_vecs)\n",
    "\n",
    "quantized_vectors = np.vstack([reconstruct_vector(id) for id in vector_indices])"
   ]
  },
  {
   "cell_type": "code",
   "execution_count": 23,
   "id": "5fcdde09-adb7-4a77-b897-4e00842964d6",
   "metadata": {},
   "outputs": [
    {
     "data": {
      "text/plain": [
       "(200000, 768)"
      ]
     },
     "execution_count": 23,
     "metadata": {},
     "output_type": "execute_result"
    }
   ],
   "source": [
    "quantized_vectors.shape"
   ]
  },
  {
   "cell_type": "code",
   "execution_count": 24,
   "id": "b039ad4a-324a-4024-8744-a0090c690c93",
   "metadata": {},
   "outputs": [],
   "source": [
    "mean_distortion = np.mean((quantized_vectors - original_vectors) ** 2)"
   ]
  },
  {
   "cell_type": "code",
   "execution_count": 25,
   "id": "37c3aaee-8654-4a6f-92e7-496b0a57670b",
   "metadata": {},
   "outputs": [
    {
     "name": "stdout",
     "output_type": "stream",
     "text": [
      "0.008572319\n"
     ]
    }
   ],
   "source": [
    "print(mean_distortion)"
   ]
  },
  {
   "cell_type": "code",
   "execution_count": null,
   "id": "47089ec6-ab06-4bd8-bc3e-daee52375eca",
   "metadata": {},
   "outputs": [],
   "source": []
  }
 ],
 "metadata": {
  "kernelspec": {
   "display_name": "Python 3 (ipykernel)",
   "language": "python",
   "name": "python3"
  },
  "language_info": {
   "codemirror_mode": {
    "name": "ipython",
    "version": 3
   },
   "file_extension": ".py",
   "mimetype": "text/x-python",
   "name": "python",
   "nbconvert_exporter": "python",
   "pygments_lexer": "ipython3",
   "version": "3.10.13"
  }
 },
 "nbformat": 4,
 "nbformat_minor": 5
}

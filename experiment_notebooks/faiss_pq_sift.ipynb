{
 "cells": [
  {
   "cell_type": "code",
   "execution_count": 1,
   "id": "30293963-b552-4f7d-b69c-8a668b4dbc2f",
   "metadata": {},
   "outputs": [],
   "source": [
    "import faiss\n",
    "import numpy as np"
   ]
  },
  {
   "cell_type": "code",
   "execution_count": 2,
   "id": "dfde6116-0bf9-4798-859a-a64b1ab6b56d",
   "metadata": {},
   "outputs": [],
   "source": [
    "# Loaders for the SIFT datasets\n",
    "\n",
    "def bvecs_read(fname):\n",
    "    a = np.fromfile(fname, dtype=np.int32, count=1)\n",
    "    b = np.fromfile(fname, dtype=np.uint8)\n",
    "    d = a[0]\n",
    "    return b.reshape(-1, d + 4)[:, 4:].copy()\n",
    "\n",
    "\n",
    "def ivecs_read(fname):\n",
    "    a = np.fromfile(fname, dtype='int32')\n",
    "    d = a[0]\n",
    "    return a.reshape(-1, d + 1)[:, 1:].copy()\n",
    "\n",
    "\n",
    "def fvecs_read(fname):\n",
    "    return ivecs_read(fname).view('float32')"
   ]
  },
  {
   "cell_type": "code",
   "execution_count": 3,
   "id": "7d277ccb-0b42-4f3b-b133-6f3f2ac046f5",
   "metadata": {},
   "outputs": [],
   "source": [
    "def recall_at_r(I, gt, r):\n",
    "    \"\"\"\n",
    "    Compute Recall@r over the all queries.\n",
    "\n",
    "    Args:\n",
    "        I (np.ndarray): Retrieval result, with shape(#queries, ANY), integer.\n",
    "                        The index of the database item\n",
    "        gt (np.ndarray): Groundtruth. np.array with shape(#queries, ANY). Integer.\n",
    "                         Only gt[:, 0] is used\n",
    "        r (int): Top-r\n",
    "\n",
    "    Returns:\n",
    "        The average recall@r over all queries\n",
    "    \"\"\"\n",
    "    assert r <= I.shape[1]\n",
    "    assert len(I) == len(gt)\n",
    "    n_ok = (I[:, :r] == gt[:, :1]).sum()\n",
    "    return n_ok / float(I.shape[0])"
   ]
  },
  {
   "cell_type": "code",
   "execution_count": 4,
   "id": "0d3a7e26-ac10-4833-a41f-4d92c0c4fa8d",
   "metadata": {},
   "outputs": [],
   "source": [
    "base = fvecs_read(\"/home/catalinlup/MyWorkspace/MasterThesis/ThesisCodebase/big_data/siftsmall/siftsmall_base.fvecs\")\n",
    "training_data = fvecs_read(\"/home/catalinlup/MyWorkspace/MasterThesis/ThesisCodebase/big_data/siftsmall/siftsmall_learn.fvecs\")\n",
    "queries = fvecs_read(\"/home/catalinlup/MyWorkspace/MasterThesis/ThesisCodebase/big_data/siftsmall/siftsmall_query.fvecs\")\n",
    "ground_truth = ivecs_read(\"/home/catalinlup/MyWorkspace/MasterThesis/ThesisCodebase/big_data/siftsmall/siftsmall_groundtruth.ivecs\")"
   ]
  },
  {
   "cell_type": "code",
   "execution_count": 5,
   "id": "34a42d5b-e32c-41d9-8178-a96dacbc94d6",
   "metadata": {},
   "outputs": [],
   "source": [
    "M = 8\n",
    "VEC_DIM = base.shape[1]\n",
    "NBITS=8\n",
    "index = faiss.IndexPQ(VEC_DIM, M, NBITS)"
   ]
  },
  {
   "cell_type": "code",
   "execution_count": 6,
   "id": "a31bd272-9c02-40bc-a85e-45b40e2ba6f8",
   "metadata": {},
   "outputs": [],
   "source": [
    "index.train(training_data)\n",
    "assert index.is_trained"
   ]
  },
  {
   "cell_type": "code",
   "execution_count": 7,
   "id": "ca2caff9-6d3a-4d30-bec2-b3c37e02f391",
   "metadata": {},
   "outputs": [],
   "source": [
    "index.add(base)"
   ]
  },
  {
   "cell_type": "code",
   "execution_count": 8,
   "id": "fedf009d-a810-4a75-8b88-c8e31090e936",
   "metadata": {},
   "outputs": [],
   "source": [
    "top_k = ground_truth.shape[1]\n",
    "results = []\n",
    "distances, I = index.search(queries, k=10)\n"
   ]
  },
  {
   "cell_type": "code",
   "execution_count": 9,
   "id": "0136956e-781e-4502-9fc2-3b2a44a26bce",
   "metadata": {},
   "outputs": [
    {
     "data": {
      "text/plain": [
       "0.88"
      ]
     },
     "execution_count": 9,
     "metadata": {},
     "output_type": "execute_result"
    }
   ],
   "source": [
    "recall_at_r(I, ground_truth, 10)"
   ]
  },
  {
   "cell_type": "code",
   "execution_count": null,
   "id": "751d154e-ca2f-4635-9764-a6c3f311d583",
   "metadata": {},
   "outputs": [],
   "source": []
  },
  {
   "cell_type": "code",
   "execution_count": null,
   "id": "83f38c41-a729-4421-b151-32ab78991ee1",
   "metadata": {},
   "outputs": [],
   "source": []
  }
 ],
 "metadata": {
  "kernelspec": {
   "display_name": "Python 3 (ipykernel)",
   "language": "python",
   "name": "python3"
  },
  "language_info": {
   "codemirror_mode": {
    "name": "ipython",
    "version": 3
   },
   "file_extension": ".py",
   "mimetype": "text/x-python",
   "name": "python",
   "nbconvert_exporter": "python",
   "pygments_lexer": "ipython3",
   "version": "3.10.13"
  }
 },
 "nbformat": 4,
 "nbformat_minor": 5
}

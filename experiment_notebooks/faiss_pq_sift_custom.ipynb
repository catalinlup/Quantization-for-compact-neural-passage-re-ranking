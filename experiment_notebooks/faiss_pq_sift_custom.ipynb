{
 "cells": [
  {
   "cell_type": "code",
   "execution_count": 3,
   "id": "0aa160b6-6e0b-415c-8869-86412ac44914",
   "metadata": {},
   "outputs": [
    {
     "name": "stderr",
     "output_type": "stream",
     "text": [
      "/home/catalinlup/anaconda3/envs/ranking/lib/python3.10/site-packages/tqdm/auto.py:21: TqdmWarning: IProgress not found. Please update jupyter and ipywidgets. See https://ipywidgets.readthedocs.io/en/stable/user_install.html\n",
      "  from .autonotebook import tqdm as notebook_tqdm\n"
     ]
    }
   ],
   "source": [
    "import numpy as np\n",
    "import sys\n",
    "sys.path.append('../')\n",
    "from quantized_fast_forward.fast_forward.index import FaissPQIndex, Mode"
   ]
  },
  {
   "cell_type": "code",
   "execution_count": 4,
   "id": "9c02d3b2-1c6d-43dc-9a07-5570a115ac62",
   "metadata": {},
   "outputs": [],
   "source": [
    "def bvecs_read(fname):\n",
    "    a = np.fromfile(fname, dtype=np.int32, count=1)\n",
    "    b = np.fromfile(fname, dtype=np.uint8)\n",
    "    d = a[0]\n",
    "    return b.reshape(-1, d + 4)[:, 4:].copy()\n",
    "\n",
    "\n",
    "def ivecs_read(fname):\n",
    "    a = np.fromfile(fname, dtype='int32')\n",
    "    d = a[0]\n",
    "    return a.reshape(-1, d + 1)[:, 1:].copy()\n",
    "\n",
    "\n",
    "def fvecs_read(fname):\n",
    "    return ivecs_read(fname).view('float32')"
   ]
  },
  {
   "cell_type": "code",
   "execution_count": 5,
   "id": "bab369de-76eb-40c8-8ff3-48adaf88757c",
   "metadata": {},
   "outputs": [],
   "source": [
    "def recall_at_r(I, gt, r):\n",
    "    \"\"\"\n",
    "    Compute Recall@r over the all queries.\n",
    "\n",
    "    Args:\n",
    "        I (np.ndarray): Retrieval result, with shape(#queries, ANY), integer.\n",
    "                        The index of the database item\n",
    "        gt (np.ndarray): Groundtruth. np.array with shape(#queries, ANY). Integer.\n",
    "                         Only gt[:, 0] is used\n",
    "        r (int): Top-r\n",
    "\n",
    "    Returns:\n",
    "        The average recall@r over all queries\n",
    "    \"\"\"\n",
    "    assert r <= I.shape[1]\n",
    "    assert len(I) == len(gt)\n",
    "    n_ok = (I[:, :r] == gt[:, :1]).sum()\n",
    "    return n_ok / float(I.shape[0])\n",
    "\n",
    "def search_query(query: np.ndarray, k: int, vectors:np.ndarray):\n",
    "    distances = np.sum((vectors - query) ** 2, axis=1)\n",
    "    sorted_indices = np.argsort(distances)\n",
    "\n",
    "    top_k_indices = sorted_indices[:k]\n",
    "    top_k_distances = distances[top_k_indices]\n",
    "\n",
    "    return top_k_distances, top_k_indices\n",
    "\n",
    "def search(queries: np.ndarray, k: int, vectors:np.ndarray):\n",
    "    distance_results = []\n",
    "    index_results = []\n",
    "\n",
    "    for i in range(queries.shape[0]):\n",
    "        query = queries[i]\n",
    "        d, i = search_query(query, k, vectors)\n",
    "        distance_results.append(d)\n",
    "        index_results.append(i)\n",
    "\n",
    "    return np.vstack(distance_results), np.vstack(index_results)\n",
    "    "
   ]
  },
  {
   "cell_type": "code",
   "execution_count": 7,
   "id": "db109a01-6757-4616-813e-592709df347c",
   "metadata": {},
   "outputs": [],
   "source": [
    "base = fvecs_read(\"/home/catalinlup/MyWorkspace/MasterThesis/ThesisCodebase/big_data/siftsmall/siftsmall_base.fvecs\")\n",
    "training_data = fvecs_read(\"/home/catalinlup/MyWorkspace/MasterThesis/ThesisCodebase/big_data/siftsmall/siftsmall_learn.fvecs\")\n",
    "queries = fvecs_read(\"/home/catalinlup/MyWorkspace/MasterThesis/ThesisCodebase/big_data/siftsmall/siftsmall_query.fvecs\")\n",
    "ground_truth = ivecs_read(\"/home/catalinlup/MyWorkspace/MasterThesis/ThesisCodebase/big_data/siftsmall/siftsmall_groundtruth.ivecs\")"
   ]
  },
  {
   "cell_type": "code",
   "execution_count": 15,
   "id": "d0dd3ed5-b6fe-41a7-84c0-ee5895be558c",
   "metadata": {},
   "outputs": [],
   "source": [
    "INDEX_PATH = '/home/catalinlup/MyWorkspace/MasterThesis/datasets/quantized_indices/siftsmall2.pickle'"
   ]
  },
  {
   "cell_type": "code",
   "execution_count": 16,
   "id": "6fe0f89b-b369-4f86-ac05-a4e29fe54ba6",
   "metadata": {},
   "outputs": [],
   "source": [
    "index = FaissPQIndex.from_disk(INDEX_PATH)"
   ]
  },
  {
   "cell_type": "code",
   "execution_count": 17,
   "id": "cf300a18-920f-4902-bd44-bfc0d1192fb4",
   "metadata": {},
   "outputs": [],
   "source": [
    "IDS = [str(i) for i in range(base.shape[0])]\n",
    "vectors, local_ids = index._get_vectors(IDS, Mode.PASSAGE)"
   ]
  },
  {
   "cell_type": "code",
   "execution_count": 18,
   "id": "5c0a6a6f-f37f-42c9-a8ef-aa66ba232674",
   "metadata": {},
   "outputs": [],
   "source": [
    "distances, I = search(queries, 10, vectors)"
   ]
  },
  {
   "cell_type": "code",
   "execution_count": 19,
   "id": "5fd8bbcc-b120-49df-ae24-47da0b7fb3cb",
   "metadata": {},
   "outputs": [
    {
     "data": {
      "text/plain": [
       "0.76"
      ]
     },
     "execution_count": 19,
     "metadata": {},
     "output_type": "execute_result"
    }
   ],
   "source": [
    "recall_at_r(I, ground_truth, 10)"
   ]
  },
  {
   "cell_type": "code",
   "execution_count": null,
   "id": "9e066db9-662a-4879-82d7-5470b3ab5e19",
   "metadata": {},
   "outputs": [],
   "source": []
  }
 ],
 "metadata": {
  "kernelspec": {
   "display_name": "Python 3 (ipykernel)",
   "language": "python",
   "name": "python3"
  },
  "language_info": {
   "codemirror_mode": {
    "name": "ipython",
    "version": 3
   },
   "file_extension": ".py",
   "mimetype": "text/x-python",
   "name": "python",
   "nbconvert_exporter": "python",
   "pygments_lexer": "ipython3",
   "version": "3.10.13"
  }
 },
 "nbformat": 4,
 "nbformat_minor": 5
}

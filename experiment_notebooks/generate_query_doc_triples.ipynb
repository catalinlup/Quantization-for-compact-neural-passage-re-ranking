{
 "cells": [
  {
   "cell_type": "code",
   "execution_count": 1,
   "id": "c29abbdf-60b3-419b-b28b-880dc947f491",
   "metadata": {},
   "outputs": [
    {
     "name": "stdout",
     "output_type": "stream",
     "text": [
      "/usr/lib/jvm/java-11-openjdk-amd64\n"
     ]
    }
   ],
   "source": [
    "import os\n",
    "\n",
    "os.environ['JAVA_HOME'] = '/usr/lib/jvm/java-11-openjdk-amd64'\n",
    "\n",
    "print(os.environ.get('JAVA_HOME'))\n",
    "\n",
    "\n",
    "from pyserini.search.lucene import LuceneSearcher\n",
    "from datasets import get_dataset\n",
    "import ir_datasets\n",
    "import pandas as pd\n",
    "from collections import defaultdict\n",
    "import pickle\n",
    "import time\n",
    "import numpy as np\n",
    "from tqdm import trange\n"
   ]
  },
  {
   "cell_type": "code",
   "execution_count": 2,
   "id": "0bfcf5a3-2665-4ade-b27e-cb4aeb5df0fe",
   "metadata": {},
   "outputs": [],
   "source": [
    "searcher = LuceneSearcher.from_prebuilt_index('msmarco-v1-passage')"
   ]
  },
  {
   "cell_type": "code",
   "execution_count": 3,
   "id": "c2532f4e-147e-409e-b55f-ef31ef810d69",
   "metadata": {},
   "outputs": [],
   "source": [
    "searcher.set_bm25(0.82, 0.68)"
   ]
  },
  {
   "cell_type": "code",
   "execution_count": 4,
   "id": "7e329370-c3b1-4516-9dd1-78920c7272ec",
   "metadata": {},
   "outputs": [],
   "source": [
    "QUERIES_PATH = '/home/catalinlup/MyWorkspace/MasterThesis/datasets/queries/msmarco_psg_queries.train.tsv'\n",
    "queries = pd.read_csv(QUERIES_PATH, sep='\\t', header=None).to_numpy()"
   ]
  },
  {
   "cell_type": "code",
   "execution_count": 5,
   "id": "b48ad487-fc2d-4522-9e60-ade8ab2f09fb",
   "metadata": {},
   "outputs": [
    {
     "name": "stdout",
     "output_type": "stream",
     "text": [
      "[[121352 'define extreme']\n",
      " [634306 'what does chattel mean on credit history']\n",
      " [920825 'what was the great leap forward brainly']\n",
      " ...\n",
      " [210839 'how can i watch the day after']\n",
      " [908165 'what to use instead of pgp in windows']\n",
      " [50393 'benefits of boiling lemons and drinking juice.']]\n",
      "808731\n"
     ]
    }
   ],
   "source": [
    "print(queries)\n",
    "query_text = queries[:, 1]\n",
    "qids = list(map(lambda x: str(x), queries[:, 0]))\n",
    "print(len(queries))"
   ]
  },
  {
   "cell_type": "code",
   "execution_count": 6,
   "id": "c29215c8-057c-4c9d-9786-b1c91b3ca89b",
   "metadata": {},
   "outputs": [
    {
     "data": {
      "text/plain": [
       "array([[1185869,       0,       0,       1],\n",
       "       [1185868,       0,      16,       1],\n",
       "       [ 597651,       0,      49,       1],\n",
       "       ...,\n",
       "       [ 559149,       0, 8841547,       1],\n",
       "       [ 706678,       0, 8841643,       1],\n",
       "       [ 405466,       0, 8841735,       1]])"
      ]
     },
     "execution_count": 6,
     "metadata": {},
     "output_type": "execute_result"
    }
   ],
   "source": [
    "QRELS_PATH = '/home/catalinlup/MyWorkspace/MasterThesis/datasets/qrels/msmarco_psg.qrels.train.tsv'\n",
    "qrels = pd.read_csv(QRELS_PATH, sep='\\t', header=None).to_numpy()\n",
    "qrels"
   ]
  },
  {
   "cell_type": "code",
   "execution_count": 7,
   "id": "0a30e530-c6c0-43ab-92d5-47db408864c7",
   "metadata": {},
   "outputs": [],
   "source": [
    "relevant_docs_by_qid = defaultdict(list)\n",
    "for row in qrels:\n",
    "    qid = row[0]\n",
    "    docid = row[2]\n",
    "    relevant_docs_by_qid[qid].append(docid)"
   ]
  },
  {
   "cell_type": "code",
   "execution_count": 8,
   "id": "f9c068a9-3f2d-42bb-aa9a-bb0b9644b921",
   "metadata": {},
   "outputs": [],
   "source": [
    "import math\n",
    "\n",
    "TOP_K = 100\n",
    "NUM_NEG_SAMPLES = 32\n",
    "BATCH_SIZE = 1000\n",
    "NUM_BATCHES = math.ceil(len(qids) / BATCH_SIZE)\n",
    "CHECKPOINT_PATH = './negative_sample_batches'"
   ]
  },
  {
   "cell_type": "code",
   "execution_count": 9,
   "id": "b4e39a1d-827e-453c-b99a-7c570eccec5e",
   "metadata": {},
   "outputs": [],
   "source": [
    "def process_sample(qids_sample, hits, num_neg_samples):\n",
    "    samples_by_qid = defaultdict(lambda: defaultdict(list))\n",
    "\n",
    "    for qid in qids_sample:\n",
    "    \n",
    "        if len(relevant_docs_by_qid[int(qid)]) == 0:\n",
    "            continue\n",
    "    \n",
    "        # print(qid, hits[qid][0].score)\n",
    "        # print(qid, hits[qid][-1].score)\n",
    "        for row in hits[qid]:\n",
    "            \n",
    "            if int(row.docid) in relevant_docs_by_qid[int(qid)]:\n",
    "                samples_by_qid[int(qid)]['pos_docs'].append((int(row.docid), row.score))\n",
    "    \n",
    "            if len(samples_by_qid[int(qid)]['pos_docs']) >= len(relevant_docs_by_qid[int(qid)]):\n",
    "                break\n",
    "    \n",
    "        for row in reversed(hits[qid]):\n",
    "            if int(row.docid) in relevant_docs_by_qid[int(qid)]:\n",
    "                continue\n",
    "                \n",
    "            samples_by_qid[int(qid)]['neg_docs'].append((int(row.docid), row.score))\n",
    "    \n",
    "            if len(samples_by_qid[int(qid)]['neg_docs']) >= num_neg_samples:\n",
    "                break\n",
    "                \n",
    "    return samples_by_qid"
   ]
  },
  {
   "cell_type": "code",
   "execution_count": 10,
   "id": "45e2eaf5-9ac9-4db9-b8e2-48ca818c0ea1",
   "metadata": {},
   "outputs": [
    {
     "name": "stderr",
     "output_type": "stream",
     "text": [
      "100%|█████████████████████████████████████████| 304/304 [12:57<00:00,  2.56s/it]\n"
     ]
    }
   ],
   "source": [
    "\n",
    "for bi in trange(505, NUM_BATCHES):\n",
    "    query_text_sample = query_text[bi * BATCH_SIZE : min((bi + 1) * BATCH_SIZE, len(query_text))]\n",
    "    qids_sample = qids[bi * BATCH_SIZE : min((bi + 1) * BATCH_SIZE, len(qids))]\n",
    "    \n",
    "    hits = searcher.batch_search(queries=query_text_sample, qids=qids_sample, k=TOP_K, threads=6)\n",
    "\n",
    "    samples_by_qid = dict(process_sample(qids_sample, hits, NUM_NEG_SAMPLES))\n",
    "    pickle.dump(samples_by_qid, open(os.path.join(CHECKPOINT_PATH, f'sample_batch_{bi}.pickle'), 'wb'))\n",
    "    \n"
   ]
  },
  {
   "cell_type": "code",
   "execution_count": null,
   "id": "1f4acae6-97d2-46b1-b7a0-2668403b1aea",
   "metadata": {},
   "outputs": [],
   "source": []
  }
 ],
 "metadata": {
  "kernelspec": {
   "display_name": "Python 3 (ipykernel)",
   "language": "python",
   "name": "python3"
  },
  "language_info": {
   "codemirror_mode": {
    "name": "ipython",
    "version": 3
   },
   "file_extension": ".py",
   "mimetype": "text/x-python",
   "name": "python",
   "nbconvert_exporter": "python",
   "pygments_lexer": "ipython3",
   "version": "3.10.13"
  }
 },
 "nbformat": 4,
 "nbformat_minor": 5
}

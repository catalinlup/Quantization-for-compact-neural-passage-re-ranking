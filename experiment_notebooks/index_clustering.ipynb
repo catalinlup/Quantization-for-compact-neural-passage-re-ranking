{
 "cells": [
  {
   "cell_type": "code",
   "execution_count": 39,
   "id": "d0d377aa-aca8-4e3a-83ae-ed746601cfa2",
   "metadata": {},
   "outputs": [],
   "source": [
    "import h5py\n",
    "import numpy as np\n",
    "# from sklearn.cluster import MiniBatchKMeans, KMeans\n",
    "from scipy.cluster import  hierarchy"
   ]
  },
  {
   "cell_type": "code",
   "execution_count": 40,
   "id": "8989d61b-7506-4227-8173-ad840ac45af5",
   "metadata": {},
   "outputs": [],
   "source": [
    "def get_index_sample(index_path: str, sample_size=4096, seed=100):\n",
    "    np.random.seed(seed)\n",
    "    \n",
    "    with h5py.File(index_path, 'r') as fp:\n",
    "        vectors = fp['vectors']\n",
    "        docids = fp['docids']\n",
    "\n",
    "        sample = list(np.random.choice(range(docids.shape[0]), size=sample_size,replace=False))\n",
    "        sample = sorted(sample)\n",
    "\n",
    "        vector_sample = vectors[sample]\n",
    "        docids_sample = docids[sample]\n",
    "\n",
    "    return vector_sample, docids_sample\n",
    "        "
   ]
  },
  {
   "cell_type": "code",
   "execution_count": 41,
   "id": "6fcb6a04-9930-4946-9bf1-2b0c16c73299",
   "metadata": {},
   "outputs": [],
   "source": [
    "cluster_centers, docids = get_index_sample('/home/catalinlup/MyWorkspace/MasterThesis/datasets/h5_indices/faiss.msmarco-v1-passage.tct_colbert.h5')"
   ]
  },
  {
   "cell_type": "code",
   "execution_count": null,
   "id": "a85043f2-5d80-4947-890b-bc62a175cc4f",
   "metadata": {},
   "outputs": [],
   "source": []
  },
  {
   "cell_type": "code",
   "execution_count": null,
   "id": "042c5851-7dba-4214-bbce-08574d8fb4bd",
   "metadata": {},
   "outputs": [],
   "source": []
  },
  {
   "cell_type": "code",
   "execution_count": null,
   "id": "a4b7abfa-32f4-4a26-bef8-dca3bad01324",
   "metadata": {},
   "outputs": [],
   "source": []
  },
  {
   "cell_type": "code",
   "execution_count": null,
   "id": "1cc17cf6-532d-4ca0-a8a3-497a9a2c8782",
   "metadata": {},
   "outputs": [],
   "source": []
  },
  {
   "cell_type": "code",
   "execution_count": null,
   "id": "e0875f13-e1cb-440f-8a33-af0dc78126e4",
   "metadata": {},
   "outputs": [],
   "source": []
  },
  {
   "cell_type": "code",
   "execution_count": null,
   "id": "605d2dcc-272f-42a4-b111-ef0f78a7bac7",
   "metadata": {},
   "outputs": [],
   "source": []
  }
 ],
 "metadata": {
  "kernelspec": {
   "display_name": "Python 3 (ipykernel)",
   "language": "python",
   "name": "python3"
  },
  "language_info": {
   "codemirror_mode": {
    "name": "ipython",
    "version": 3
   },
   "file_extension": ".py",
   "mimetype": "text/x-python",
   "name": "python",
   "nbconvert_exporter": "python",
   "pygments_lexer": "ipython3",
   "version": "3.10.13"
  }
 },
 "nbformat": 4,
 "nbformat_minor": 5
}

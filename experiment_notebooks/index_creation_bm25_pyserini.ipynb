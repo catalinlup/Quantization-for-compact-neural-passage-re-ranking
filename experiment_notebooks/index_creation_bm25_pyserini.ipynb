{
 "cells": [
  {
   "cell_type": "code",
   "execution_count": 1,
   "id": "2b0aed23-5991-4f42-abee-65078e57ab4b",
   "metadata": {},
   "outputs": [
    {
     "name": "stdout",
     "output_type": "stream",
     "text": [
      "/usr/lib/jvm/java-11-openjdk-amd64\n"
     ]
    },
    {
     "name": "stderr",
     "output_type": "stream",
     "text": [
      "/home/catalinlup/anaconda3/envs/ranking/lib/python3.10/site-packages/tqdm/auto.py:21: TqdmWarning: IProgress not found. Please update jupyter and ipywidgets. See https://ipywidgets.readthedocs.io/en/stable/user_install.html\n",
      "  from .autonotebook import tqdm as notebook_tqdm\n"
     ]
    }
   ],
   "source": [
    "import os\n",
    "\n",
    "os.environ['JAVA_HOME'] = '/usr/lib/jvm/java-11-openjdk-amd64'\n",
    "\n",
    "print(os.environ.get('JAVA_HOME'))\n",
    "\n",
    "\n",
    "from pyserini.search.lucene import LuceneSearcher\n",
    "from datasets import get_dataset\n",
    "import ir_datasets\n",
    "\n",
    "\n"
   ]
  },
  {
   "cell_type": "code",
   "execution_count": 2,
   "id": "db2b3bee-9773-4ec8-89ae-629121dcf346",
   "metadata": {},
   "outputs": [],
   "source": [
    "searcher = LuceneSearcher.from_prebuilt_index('msmarco-v1-passage')"
   ]
  },
  {
   "cell_type": "code",
   "execution_count": 3,
   "id": "e6d0123c-ed87-442e-a7a5-0f8e2933184b",
   "metadata": {},
   "outputs": [],
   "source": [
    "searcher.set_bm25(0.82, 0.68)"
   ]
  },
  {
   "cell_type": "code",
   "execution_count": 4,
   "id": "33c3a259-d4f3-49f3-ae1d-413fbc4158e7",
   "metadata": {},
   "outputs": [],
   "source": [
    "# get the queries\n",
    "# psg20 = ir_datasets.load(\"msmarco-passage/dev/small\")\n",
    "# queries = psg20.queries_iter()\n",
    "\n",
    "queries, qrels = get_dataset('trec-dl-2019-sample')\n",
    "\n",
    "qids = []\n",
    "query_text = []\n",
    "for q in queries:\n",
    "    qids.append(q.query_id)\n",
    "    query_text.append(q.text)\n",
    "\n",
    "# doc_ids = set(map(lambda x: x.doc_id, qrels))"
   ]
  },
  {
   "cell_type": "code",
   "execution_count": 5,
   "id": "392769ac-c095-43af-810a-492c7a9c306f",
   "metadata": {},
   "outputs": [],
   "source": [
    "K = 5000\n",
    "hits = searcher.batch_search(queries=query_text, qids=qids, k=K, threads=6)\n",
    "\n"
   ]
  },
  {
   "cell_type": "code",
   "execution_count": 6,
   "id": "b509a57c-ce84-4d6e-a975-c5a6d8be74db",
   "metadata": {},
   "outputs": [],
   "source": [
    "query_id = []\n",
    "document_id = []\n",
    "rank = []\n",
    "score = []\n",
    "for qid in qids:\n",
    "    for i in range(len(hits[qid])):\n",
    "\n",
    "        # if hits[qid][i].docid not in doc_ids:\n",
    "        #     continue\n",
    "        \n",
    "        query_id.append(qid)\n",
    "        document_id.append(hits[qid][i].docid)\n",
    "        rank.append(i)\n",
    "        score.append(hits[qid][i].score)        "
   ]
  },
  {
   "cell_type": "code",
   "execution_count": 7,
   "id": "d91bf9d9-9782-4de5-b72f-6305f6de041a",
   "metadata": {},
   "outputs": [
    {
     "name": "stdout",
     "output_type": "stream",
     "text": [
      "      query_id run document_id  rank      score   engine\n",
      "0       436600  Q0     8473863     0  14.605000  Aserini\n",
      "1       436600  Q0     2267986     1  14.143000  Aserini\n",
      "2       436600  Q0     3813285     2  13.464800  Aserini\n",
      "3       436600  Q0     2925061     3  13.023300  Aserini\n",
      "4       436600  Q0     4541820     4  12.771900  Aserini\n",
      "...        ...  ..         ...   ...        ...      ...\n",
      "24995   443396  Q0     5308631  4995   4.731948  Aserini\n",
      "24996   443396  Q0     5340110  4996   4.731947  Aserini\n",
      "24997   443396  Q0     5366024  4997   4.731946  Aserini\n",
      "24998   443396  Q0     5426424  4998   4.731945  Aserini\n",
      "24999   443396  Q0     5538992  4999   4.731944  Aserini\n",
      "\n",
      "[25000 rows x 6 columns]\n"
     ]
    }
   ],
   "source": [
    "import pandas as pd\n",
    "run_file = pd.DataFrame(columns=[\"query_id\", \"run\", \"document_id\", \"rank\", \"score\", \"engine\"])\n",
    "run_file[\"query_id\"] = query_id\n",
    "run_file[\"run\"] = \"Q0\"\n",
    "run_file[\"document_id\"] = document_id\n",
    "run_file[\"rank\"] = rank\n",
    "run_file[\"score\"] = score\n",
    "run_file[\"engine\"] = \"Aserini\"\n",
    "\n",
    "print(run_file)"
   ]
  },
  {
   "cell_type": "code",
   "execution_count": 8,
   "id": "37690bb8-4a21-4783-ac05-aa867bf79a23",
   "metadata": {},
   "outputs": [],
   "source": [
    "run_file.to_csv(\"/home/catalinlup/MyWorkspace/MasterThesis/datasets/run_files/msmarco_psg_bm25_rankings.trec_2019.sample.small.tsv\", sep=\"\\t\", index=False, header=False)"
   ]
  },
  {
   "cell_type": "code",
   "execution_count": null,
   "id": "656843f9-9c9d-4865-b483-79ce6b2eca16",
   "metadata": {},
   "outputs": [],
   "source": []
  },
  {
   "cell_type": "code",
   "execution_count": null,
   "id": "c80265b3-f470-44cf-b8a9-c1a896404a5d",
   "metadata": {},
   "outputs": [],
   "source": []
  }
 ],
 "metadata": {
  "kernelspec": {
   "display_name": "Python 3 (ipykernel)",
   "language": "python",
   "name": "python3"
  },
  "language_info": {
   "codemirror_mode": {
    "name": "ipython",
    "version": 3
   },
   "file_extension": ".py",
   "mimetype": "text/x-python",
   "name": "python",
   "nbconvert_exporter": "python",
   "pygments_lexer": "ipython3",
   "version": "3.10.13"
  }
 },
 "nbformat": 4,
 "nbformat_minor": 5
}

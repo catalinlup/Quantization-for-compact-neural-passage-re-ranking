{
 "cells": [
  {
   "cell_type": "code",
   "execution_count": 13,
   "id": "9bebed7b-4f0f-40cf-a1ef-f7f80dfaca5e",
   "metadata": {},
   "outputs": [],
   "source": [
    "import ir_datasets\n",
    "import pyterrier as pt\n",
    "import pandas as pd\n",
    "try:\n",
    "    pt.init()\n",
    "except:\n",
    "    pass"
   ]
  },
  {
   "cell_type": "code",
   "execution_count": 14,
   "id": "dd104d25-0ae1-4fd1-b091-e43ed2f6cb76",
   "metadata": {},
   "outputs": [],
   "source": [
    "dataset = pt.get_dataset(\"msmarco_passage\")\n",
    "bm25 = pt.BatchRetrieve.from_dataset(dataset, \"terrier_stemmed\", wmodel=\"BM25\")"
   ]
  },
  {
   "cell_type": "code",
   "execution_count": 15,
   "id": "14c624c3-9a60-4e25-a87d-c059fa54aee3",
   "metadata": {},
   "outputs": [
    {
     "name": "stdout",
     "output_type": "stream",
     "text": [
      "         qid                                       query\n",
      "0    1030303                          who is aziz hashim\n",
      "1    1037496                         who is rep scalise \n",
      "2    1043135            who killed nicholas ii of russia\n",
      "3    1045109                     who owns barnhart crane\n",
      "4    1049519  who said no one can make you feel inferior\n",
      "..       ...                                         ...\n",
      "195   985594                          where is kampuchea\n",
      "196    99005                 convert sq meter to sq inch\n",
      "197   997622          where is the show shameless filmed\n",
      "198   999466                            where is velbert\n",
      "199   132622               definition of attempted arson\n",
      "\n",
      "[200 rows x 2 columns]\n"
     ]
    }
   ],
   "source": [
    "psg20 = ir_datasets.load(\"msmarco-passage/trec-dl-2020\")\n",
    "\n",
    "queries = psg20.queries_iter()\n",
    "query_data = []\n",
    "for q in queries:\n",
    "    query_data.append([q.query_id, \"\".join([x if x.isalnum() else \" \" for x in q.text])])\n",
    "queryDf = pd.DataFrame(query_data, columns=[\"qid\", \"query\"])\n",
    "print(queryDf)"
   ]
  },
  {
   "cell_type": "code",
   "execution_count": 16,
   "id": "8746d1ee-e19d-4ba8-879b-cfdf13663d5a",
   "metadata": {},
   "outputs": [],
   "source": [
    "res = bm25.transform(queryDf)\n",
    "\n"
   ]
  },
  {
   "cell_type": "code",
   "execution_count": 18,
   "id": "673031a3-b96e-4b9a-aa40-42774be38eb7",
   "metadata": {},
   "outputs": [
    {
     "name": "stdout",
     "output_type": "stream",
     "text": [
      "            qid    docid    docno  rank      score  \\\n",
      "0       1030303  8726436  8726436     0  54.354218   \n",
      "1       1030303  8726433  8726433     1  44.220280   \n",
      "2       1030303  8726435  8726435     2  40.514966   \n",
      "3       1030303  8726429  8726429     3  39.687092   \n",
      "4       1030303  8726437  8726437     4  35.847262   \n",
      "...         ...      ...      ...   ...        ...   \n",
      "193657   132622  2431419  2431419   995  13.890963   \n",
      "193658   132622  2765612  2765612   996  13.890963   \n",
      "193659   132622  4400077  4400077   997  13.890963   \n",
      "193660   132622  5041482  5041482   998  13.890963   \n",
      "193661   132622  6031519  6031519   999  13.890963   \n",
      "\n",
      "                                query  \n",
      "0                  who is aziz hashim  \n",
      "1                  who is aziz hashim  \n",
      "2                  who is aziz hashim  \n",
      "3                  who is aziz hashim  \n",
      "4                  who is aziz hashim  \n",
      "...                               ...  \n",
      "193657  definition of attempted arson  \n",
      "193658  definition of attempted arson  \n",
      "193659  definition of attempted arson  \n",
      "193660  definition of attempted arson  \n",
      "193661  definition of attempted arson  \n",
      "\n",
      "[193662 rows x 6 columns]\n"
     ]
    }
   ],
   "source": [
    "# res.to_csv(\"bm25_scores.tsv\", sep='\\t')\n",
    "run_file = pd.DataFrame(columns=[\"query_id\", \"run\", \"document_id\", \"rank\", \"score\", \"engine\"])\n",
    "print(res)"
   ]
  },
  {
   "cell_type": "code",
   "execution_count": 19,
   "id": "c1f2eb2e-01ad-4e17-b6d4-ac80bb42b2e4",
   "metadata": {},
   "outputs": [],
   "source": [
    "run_file[\"query_id\"] = res[\"qid\"]\n",
    "run_file[\"run\"] = \"Q0\"\n",
    "run_file[\"document_id\"] = res[\"docid\"]\n",
    "run_file[\"rank\"] = res[\"rank\"]\n",
    "run_file[\"score\"] = res[\"score\"]\n",
    "run_file[\"engine\"] = \"Terrier\""
   ]
  },
  {
   "cell_type": "code",
   "execution_count": 22,
   "id": "1be9f4ed-08ef-45f9-aeef-1da777282eb4",
   "metadata": {},
   "outputs": [],
   "source": [
    "run_file.to_csv(\"/home/catalinlup/MyWorkspace/MasterThesis/datasets/run_files/msmarco_psg_bm25_rankings.tsv\", sep=\"\\t\", index=False, header=False)"
   ]
  },
  {
   "cell_type": "code",
   "execution_count": null,
   "id": "32c14cff-592f-4fdb-a0a4-3e23828035cc",
   "metadata": {},
   "outputs": [],
   "source": []
  }
 ],
 "metadata": {
  "kernelspec": {
   "display_name": "Python 3 (ipykernel)",
   "language": "python",
   "name": "python3"
  },
  "language_info": {
   "codemirror_mode": {
    "name": "ipython",
    "version": 3
   },
   "file_extension": ".py",
   "mimetype": "text/x-python",
   "name": "python",
   "nbconvert_exporter": "python",
   "pygments_lexer": "ipython3",
   "version": "3.10.13"
  }
 },
 "nbformat": 4,
 "nbformat_minor": 5
}

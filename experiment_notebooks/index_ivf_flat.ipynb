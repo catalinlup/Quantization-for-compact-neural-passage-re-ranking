{
 "cells": [
  {
   "cell_type": "code",
   "execution_count": 41,
   "id": "d865a793-8eb5-46be-8f68-bbaf3923ea5f",
   "metadata": {},
   "outputs": [],
   "source": [
    "import faiss\n",
    "from faiss.loader import *\n",
    "import numpy as np"
   ]
  },
  {
   "cell_type": "code",
   "execution_count": 24,
   "id": "cd5929bf-4f29-489c-b6a0-2b1ec1505d8f",
   "metadata": {},
   "outputs": [],
   "source": [
    "index = faiss.read_index(\"/home/catalinlup/MyWorkspace/MasterThesis/datasets/ivf_quantized_indices/test_run_tct.index\")"
   ]
  },
  {
   "cell_type": "code",
   "execution_count": 26,
   "id": "a43f4adf-0605-466a-b4e6-700ad3e2ca82",
   "metadata": {},
   "outputs": [],
   "source": [
    "num_lists = index.invlists.nlist\n",
    "list_sizes = []\n",
    "for i in range(num_lists):\n",
    "    list_sizes.append(index.invlists.list_size(i))\n"
   ]
  },
  {
   "cell_type": "code",
   "execution_count": 65,
   "id": "d5a4f9ae-666c-4050-9d1f-19c0280de4d1",
   "metadata": {},
   "outputs": [
    {
     "name": "stdout",
     "output_type": "stream",
     "text": [
      "<class 'SwigPyObject'>\n"
     ]
    },
    {
     "data": {
      "text/plain": [
       "array([ 553515,  553516, 3832692, 4080799, 6037755, 6960917, 7162111,\n",
       "       7366674, 7366676, 8824668])"
      ]
     },
     "execution_count": 65,
     "metadata": {},
     "output_type": "execute_result"
    }
   ],
   "source": [
    "def cpointer_to_array(v, size, tp):\n",
    "    \"\"\" convert a C pointer to a numpy array \"\"\"\n",
    "    print(type(v))\n",
    "    dtype = np.dtype(tp)\n",
    "    a = np.empty(size, dtype=dtype)\n",
    "    if size > 0:\n",
    "        memcpy(swig_ptr(a), v, a.nbytes)\n",
    "    return a\n",
    "\n",
    "# index.invlists.get_ids(2)\n",
    "cpointer_to_array(index.invlists.get_ids(5), list_sizes[5], np.int64)\n",
    "# print(list_sizes[5])"
   ]
  },
  {
   "cell_type": "code",
   "execution_count": null,
   "id": "621b5228-bae5-4619-bcd3-abcb89e1963d",
   "metadata": {},
   "outputs": [],
   "source": []
  }
 ],
 "metadata": {
  "kernelspec": {
   "display_name": "Python 3 (ipykernel)",
   "language": "python",
   "name": "python3"
  },
  "language_info": {
   "codemirror_mode": {
    "name": "ipython",
    "version": 3
   },
   "file_extension": ".py",
   "mimetype": "text/x-python",
   "name": "python",
   "nbconvert_exporter": "python",
   "pygments_lexer": "ipython3",
   "version": "3.10.13"
  }
 },
 "nbformat": 4,
 "nbformat_minor": 5
}

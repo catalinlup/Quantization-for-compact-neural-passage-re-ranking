{
 "cells": [
  {
   "cell_type": "code",
   "execution_count": 18,
   "id": "e073e4b1-1bb8-40af-b84a-71ab7846a5d0",
   "metadata": {},
   "outputs": [],
   "source": [
    "import pandas as pd\n",
    "import h5py\n",
    "import numpy as np"
   ]
  },
  {
   "cell_type": "code",
   "execution_count": 10,
   "id": "44d8395f-d1b2-4486-b35c-db20108ccd5f",
   "metadata": {},
   "outputs": [],
   "source": [
    "ms_marco_query_dataset = pd.read_csv('/home/catalinlup/MyWorkspace/MasterThesis/datasets/queries/msmarco_psg_queries.dev.tsv', sep='\\t', header=None)\n",
    "ms_marco_qrel_dataset = pd.read_csv('/home/catalinlup/MyWorkspace/MasterThesis/datasets/qrels/msmarco_psg_dev_qrel.tsv', sep='\\t', header=None)\n",
    "\n",
    "with h5py.File('/home/catalinlup/MyWorkspace/MasterThesis/datasets/h5_indices/index_0_100.h5', 'r') as fp:\n",
    "    docids = fp['docids'][:]\n",
    "    docids_set = set(list(docids))"
   ]
  },
  {
   "cell_type": "code",
   "execution_count": 26,
   "id": "695ba53c-d8d7-4504-b7c9-7cac1cad3c18",
   "metadata": {},
   "outputs": [],
   "source": [
    "sampled_qrel = ms_marco_qrel_dataset[ms_marco_qrel_dataset[2].isin(docids_set)]\n",
    "queries = set(list(sampled_qrel[0]))\n",
    "sampled_query = ms_marco_query_dataset[ms_marco_query_dataset[0].isin(queries)]"
   ]
  },
  {
   "cell_type": "code",
   "execution_count": 29,
   "id": "34627dc3-c1df-4283-962a-42afaa5df475",
   "metadata": {},
   "outputs": [],
   "source": [
    "sampled_query.to_csv('/home/catalinlup/MyWorkspace/MasterThesis/datasets/queries/colbert_test_0_100_query.tsv', index=None, sep='\\t', header=None)\n",
    "sampled_qrel.to_csv('/home/catalinlup/MyWorkspace/MasterThesis/datasets/qrels/colbert_test_0_100_qrel.tsv', index=None, sep='\\t', header=None)"
   ]
  },
  {
   "cell_type": "code",
   "execution_count": null,
   "id": "8e91925a-92dd-4d3f-80f8-e88a46671615",
   "metadata": {},
   "outputs": [],
   "source": []
  }
 ],
 "metadata": {
  "kernelspec": {
   "display_name": "Python 3 (ipykernel)",
   "language": "python",
   "name": "python3"
  },
  "language_info": {
   "codemirror_mode": {
    "name": "ipython",
    "version": 3
   },
   "file_extension": ".py",
   "mimetype": "text/x-python",
   "name": "python",
   "nbconvert_exporter": "python",
   "pygments_lexer": "ipython3",
   "version": "3.10.13"
  }
 },
 "nbformat": 4,
 "nbformat_minor": 5
}
